{
  "nbformat": 4,
  "nbformat_minor": 0,
  "metadata": {
    "colab": {
      "provenance": [],
      "collapsed_sections": [
        "wpfmOVga2q7r",
        "61bHDE26yJzi",
        "pK31sr_E1Mbv"
      ],
      "authorship_tag": "ABX9TyNR0HLUOD58BXHgeWx8Cy1i",
      "include_colab_link": true
    },
    "kernelspec": {
      "name": "python3",
      "display_name": "Python 3"
    },
    "language_info": {
      "name": "python"
    }
  },
  "cells": [
    {
      "cell_type": "markdown",
      "metadata": {
        "id": "view-in-github",
        "colab_type": "text"
      },
      "source": [
        "<a href=\"https://colab.research.google.com/github/aslucky0143/Machine_Learning_Practice_Colab/blob/main/ML_practice_day_1.ipynb\" target=\"_parent\"><img src=\"https://colab.research.google.com/assets/colab-badge.svg\" alt=\"Open In Colab\"/></a>"
      ]
    },
    {
      "cell_type": "markdown",
      "source": [
        "# **Libraries to be imported**"
      ],
      "metadata": {
        "id": "bWZXgMFJsQ7b"
      }
    },
    {
      "cell_type": "code",
      "execution_count": null,
      "metadata": {
        "id": "9htZRy0orQI2"
      },
      "outputs": [],
      "source": [
        "import pandas as pd \n",
        "import numpy as np\n",
        "\"\"\"\n",
        "Social_Network_Ads.csv file used initally\n",
        "file_link = https://drive.google.com/file/d/1E9MBZvTA8aBItfuYZx2VMtv9nx7bFiTr/view?usp=share_link\n",
        "\n",
        "Find all the CSV files in the below link:\n",
        "https://drive.google.com/file/d/1E9MBZvTA8aBItfuYZx2VMtv9nx7bFiTr/view?usp=share_link\n",
        "\n",
        "\"\"\""
      ]
    },
    {
      "cell_type": "markdown",
      "source": [
        "# **Data Reading and Understanding**"
      ],
      "metadata": {
        "id": "wpfmOVga2q7r"
      }
    },
    {
      "cell_type": "markdown",
      "source": [
        "reading csv"
      ],
      "metadata": {
        "id": "K1Ox9D6PsP2u"
      }
    },
    {
      "cell_type": "code",
      "source": [
        "#reading the data using pandas \n",
        "df = pd.read_csv('/content/Social_Network_Ads.csv')\n",
        "df"
      ],
      "metadata": {
        "colab": {
          "base_uri": "https://localhost:8080/",
          "height": 423
        },
        "id": "4XK_cFhvrlOT",
        "outputId": "fe7e7e4c-94eb-4041-eb40-cc8d7245a229"
      },
      "execution_count": null,
      "outputs": [
        {
          "output_type": "execute_result",
          "data": {
            "text/plain": [
              "      User ID  Gender  Age  EstimatedSalary  Purchased\n",
              "0    15624510    Male   19            19000          0\n",
              "1    15810944    Male   35            20000          0\n",
              "2    15668575  Female   26            43000          0\n",
              "3    15603246  Female   27            57000          0\n",
              "4    15804002    Male   19            76000          0\n",
              "..        ...     ...  ...              ...        ...\n",
              "395  15691863  Female   46            41000          1\n",
              "396  15706071    Male   51            23000          1\n",
              "397  15654296  Female   50            20000          1\n",
              "398  15755018    Male   36            33000          0\n",
              "399  15594041  Female   49            36000          1\n",
              "\n",
              "[400 rows x 5 columns]"
            ],
            "text/html": [
              "\n",
              "  <div id=\"df-e7ab4d4e-1dee-4ef1-8824-76f9b5651004\">\n",
              "    <div class=\"colab-df-container\">\n",
              "      <div>\n",
              "<style scoped>\n",
              "    .dataframe tbody tr th:only-of-type {\n",
              "        vertical-align: middle;\n",
              "    }\n",
              "\n",
              "    .dataframe tbody tr th {\n",
              "        vertical-align: top;\n",
              "    }\n",
              "\n",
              "    .dataframe thead th {\n",
              "        text-align: right;\n",
              "    }\n",
              "</style>\n",
              "<table border=\"1\" class=\"dataframe\">\n",
              "  <thead>\n",
              "    <tr style=\"text-align: right;\">\n",
              "      <th></th>\n",
              "      <th>User ID</th>\n",
              "      <th>Gender</th>\n",
              "      <th>Age</th>\n",
              "      <th>EstimatedSalary</th>\n",
              "      <th>Purchased</th>\n",
              "    </tr>\n",
              "  </thead>\n",
              "  <tbody>\n",
              "    <tr>\n",
              "      <th>0</th>\n",
              "      <td>15624510</td>\n",
              "      <td>Male</td>\n",
              "      <td>19</td>\n",
              "      <td>19000</td>\n",
              "      <td>0</td>\n",
              "    </tr>\n",
              "    <tr>\n",
              "      <th>1</th>\n",
              "      <td>15810944</td>\n",
              "      <td>Male</td>\n",
              "      <td>35</td>\n",
              "      <td>20000</td>\n",
              "      <td>0</td>\n",
              "    </tr>\n",
              "    <tr>\n",
              "      <th>2</th>\n",
              "      <td>15668575</td>\n",
              "      <td>Female</td>\n",
              "      <td>26</td>\n",
              "      <td>43000</td>\n",
              "      <td>0</td>\n",
              "    </tr>\n",
              "    <tr>\n",
              "      <th>3</th>\n",
              "      <td>15603246</td>\n",
              "      <td>Female</td>\n",
              "      <td>27</td>\n",
              "      <td>57000</td>\n",
              "      <td>0</td>\n",
              "    </tr>\n",
              "    <tr>\n",
              "      <th>4</th>\n",
              "      <td>15804002</td>\n",
              "      <td>Male</td>\n",
              "      <td>19</td>\n",
              "      <td>76000</td>\n",
              "      <td>0</td>\n",
              "    </tr>\n",
              "    <tr>\n",
              "      <th>...</th>\n",
              "      <td>...</td>\n",
              "      <td>...</td>\n",
              "      <td>...</td>\n",
              "      <td>...</td>\n",
              "      <td>...</td>\n",
              "    </tr>\n",
              "    <tr>\n",
              "      <th>395</th>\n",
              "      <td>15691863</td>\n",
              "      <td>Female</td>\n",
              "      <td>46</td>\n",
              "      <td>41000</td>\n",
              "      <td>1</td>\n",
              "    </tr>\n",
              "    <tr>\n",
              "      <th>396</th>\n",
              "      <td>15706071</td>\n",
              "      <td>Male</td>\n",
              "      <td>51</td>\n",
              "      <td>23000</td>\n",
              "      <td>1</td>\n",
              "    </tr>\n",
              "    <tr>\n",
              "      <th>397</th>\n",
              "      <td>15654296</td>\n",
              "      <td>Female</td>\n",
              "      <td>50</td>\n",
              "      <td>20000</td>\n",
              "      <td>1</td>\n",
              "    </tr>\n",
              "    <tr>\n",
              "      <th>398</th>\n",
              "      <td>15755018</td>\n",
              "      <td>Male</td>\n",
              "      <td>36</td>\n",
              "      <td>33000</td>\n",
              "      <td>0</td>\n",
              "    </tr>\n",
              "    <tr>\n",
              "      <th>399</th>\n",
              "      <td>15594041</td>\n",
              "      <td>Female</td>\n",
              "      <td>49</td>\n",
              "      <td>36000</td>\n",
              "      <td>1</td>\n",
              "    </tr>\n",
              "  </tbody>\n",
              "</table>\n",
              "<p>400 rows × 5 columns</p>\n",
              "</div>\n",
              "      <button class=\"colab-df-convert\" onclick=\"convertToInteractive('df-e7ab4d4e-1dee-4ef1-8824-76f9b5651004')\"\n",
              "              title=\"Convert this dataframe to an interactive table.\"\n",
              "              style=\"display:none;\">\n",
              "        \n",
              "  <svg xmlns=\"http://www.w3.org/2000/svg\" height=\"24px\"viewBox=\"0 0 24 24\"\n",
              "       width=\"24px\">\n",
              "    <path d=\"M0 0h24v24H0V0z\" fill=\"none\"/>\n",
              "    <path d=\"M18.56 5.44l.94 2.06.94-2.06 2.06-.94-2.06-.94-.94-2.06-.94 2.06-2.06.94zm-11 1L8.5 8.5l.94-2.06 2.06-.94-2.06-.94L8.5 2.5l-.94 2.06-2.06.94zm10 10l.94 2.06.94-2.06 2.06-.94-2.06-.94-.94-2.06-.94 2.06-2.06.94z\"/><path d=\"M17.41 7.96l-1.37-1.37c-.4-.4-.92-.59-1.43-.59-.52 0-1.04.2-1.43.59L10.3 9.45l-7.72 7.72c-.78.78-.78 2.05 0 2.83L4 21.41c.39.39.9.59 1.41.59.51 0 1.02-.2 1.41-.59l7.78-7.78 2.81-2.81c.8-.78.8-2.07 0-2.86zM5.41 20L4 18.59l7.72-7.72 1.47 1.35L5.41 20z\"/>\n",
              "  </svg>\n",
              "      </button>\n",
              "      \n",
              "  <style>\n",
              "    .colab-df-container {\n",
              "      display:flex;\n",
              "      flex-wrap:wrap;\n",
              "      gap: 12px;\n",
              "    }\n",
              "\n",
              "    .colab-df-convert {\n",
              "      background-color: #E8F0FE;\n",
              "      border: none;\n",
              "      border-radius: 50%;\n",
              "      cursor: pointer;\n",
              "      display: none;\n",
              "      fill: #1967D2;\n",
              "      height: 32px;\n",
              "      padding: 0 0 0 0;\n",
              "      width: 32px;\n",
              "    }\n",
              "\n",
              "    .colab-df-convert:hover {\n",
              "      background-color: #E2EBFA;\n",
              "      box-shadow: 0px 1px 2px rgba(60, 64, 67, 0.3), 0px 1px 3px 1px rgba(60, 64, 67, 0.15);\n",
              "      fill: #174EA6;\n",
              "    }\n",
              "\n",
              "    [theme=dark] .colab-df-convert {\n",
              "      background-color: #3B4455;\n",
              "      fill: #D2E3FC;\n",
              "    }\n",
              "\n",
              "    [theme=dark] .colab-df-convert:hover {\n",
              "      background-color: #434B5C;\n",
              "      box-shadow: 0px 1px 3px 1px rgba(0, 0, 0, 0.15);\n",
              "      filter: drop-shadow(0px 1px 2px rgba(0, 0, 0, 0.3));\n",
              "      fill: #FFFFFF;\n",
              "    }\n",
              "  </style>\n",
              "\n",
              "      <script>\n",
              "        const buttonEl =\n",
              "          document.querySelector('#df-e7ab4d4e-1dee-4ef1-8824-76f9b5651004 button.colab-df-convert');\n",
              "        buttonEl.style.display =\n",
              "          google.colab.kernel.accessAllowed ? 'block' : 'none';\n",
              "\n",
              "        async function convertToInteractive(key) {\n",
              "          const element = document.querySelector('#df-e7ab4d4e-1dee-4ef1-8824-76f9b5651004');\n",
              "          const dataTable =\n",
              "            await google.colab.kernel.invokeFunction('convertToInteractive',\n",
              "                                                     [key], {});\n",
              "          if (!dataTable) return;\n",
              "\n",
              "          const docLinkHtml = 'Like what you see? Visit the ' +\n",
              "            '<a target=\"_blank\" href=https://colab.research.google.com/notebooks/data_table.ipynb>data table notebook</a>'\n",
              "            + ' to learn more about interactive tables.';\n",
              "          element.innerHTML = '';\n",
              "          dataTable['output_type'] = 'display_data';\n",
              "          await google.colab.output.renderOutput(dataTable, element);\n",
              "          const docLink = document.createElement('div');\n",
              "          docLink.innerHTML = docLinkHtml;\n",
              "          element.appendChild(docLink);\n",
              "        }\n",
              "      </script>\n",
              "    </div>\n",
              "  </div>\n",
              "  "
            ]
          },
          "metadata": {},
          "execution_count": 2
        }
      ]
    },
    {
      "cell_type": "markdown",
      "source": [
        "Functions to be performed using the data frame (pandas)"
      ],
      "metadata": {
        "id": "2u1cvvYJsybu"
      }
    },
    {
      "cell_type": "code",
      "source": [
        "dflen=len(df)#len of the dataframe\n",
        "dfshape=df.shape#shape of dataframe\n",
        "dfhead=df.head()#head of dataframe\n",
        "dftail=df.tail()#tail of dataframe\n",
        "dfdescribe=df.describe()#description of dataframe includes count mean std min 25% 50% 75% max\n",
        "print(dflen,dfshape,dfhead,dftail,dfdescribe,sep=\"\\n\")\n"
      ],
      "metadata": {
        "colab": {
          "base_uri": "https://localhost:8080/"
        },
        "id": "S4EzlDmztB3I",
        "outputId": "8d43d013-8d8a-4aba-9610-d0f180282480"
      },
      "execution_count": null,
      "outputs": [
        {
          "output_type": "stream",
          "name": "stdout",
          "text": [
            "400\n",
            "(400, 5)\n",
            "    User ID  Gender  Age  EstimatedSalary  Purchased\n",
            "0  15624510    Male   19            19000          0\n",
            "1  15810944    Male   35            20000          0\n",
            "2  15668575  Female   26            43000          0\n",
            "3  15603246  Female   27            57000          0\n",
            "4  15804002    Male   19            76000          0\n",
            "      User ID  Gender  Age  EstimatedSalary  Purchased\n",
            "395  15691863  Female   46            41000          1\n",
            "396  15706071    Male   51            23000          1\n",
            "397  15654296  Female   50            20000          1\n",
            "398  15755018    Male   36            33000          0\n",
            "399  15594041  Female   49            36000          1\n",
            "            User ID         Age  EstimatedSalary   Purchased\n",
            "count  4.000000e+02  400.000000       400.000000  400.000000\n",
            "mean   1.569154e+07   37.655000     69742.500000    0.357500\n",
            "std    7.165832e+04   10.482877     34096.960282    0.479864\n",
            "min    1.556669e+07   18.000000     15000.000000    0.000000\n",
            "25%    1.562676e+07   29.750000     43000.000000    0.000000\n",
            "50%    1.569434e+07   37.000000     70000.000000    0.000000\n",
            "75%    1.575036e+07   46.000000     88000.000000    1.000000\n",
            "max    1.581524e+07   60.000000    150000.000000    1.000000\n"
          ]
        }
      ]
    },
    {
      "cell_type": "markdown",
      "source": [
        "Data Preprocessing"
      ],
      "metadata": {
        "id": "kwOwoWkPumE1"
      }
    },
    {
      "cell_type": "code",
      "source": [
        "\"\"\"Convertion of string data to integer\"\"\"\n",
        "from sklearn import preprocessing\n",
        "str_to_int=preprocessing.LabelEncoder()\n",
        "df=df.apply(str_to_int.fit_transform)\n",
        "df"
      ],
      "metadata": {
        "colab": {
          "base_uri": "https://localhost:8080/",
          "height": 423
        },
        "id": "cqgLpshgup47",
        "outputId": "a7ff857e-61d3-4d22-c72c-49b87bd95e83"
      },
      "execution_count": null,
      "outputs": [
        {
          "output_type": "execute_result",
          "data": {
            "text/plain": [
              "     User ID  Gender  Age  EstimatedSalary  Purchased\n",
              "0         97       1    1                4          0\n",
              "1        392       1   17                5          0\n",
              "2        155       0    8               26          0\n",
              "3         64       0    9               39          0\n",
              "4        382       1    1               57          0\n",
              "..       ...     ...  ...              ...        ...\n",
              "395      196       0   28               24          1\n",
              "396      220       1   33                8          1\n",
              "397      130       0   32                5          1\n",
              "398      305       1   18               17          0\n",
              "399       45       0   31               20          1\n",
              "\n",
              "[400 rows x 5 columns]"
            ],
            "text/html": [
              "\n",
              "  <div id=\"df-e9244cfd-8b97-470b-9d4e-34a6f574f809\">\n",
              "    <div class=\"colab-df-container\">\n",
              "      <div>\n",
              "<style scoped>\n",
              "    .dataframe tbody tr th:only-of-type {\n",
              "        vertical-align: middle;\n",
              "    }\n",
              "\n",
              "    .dataframe tbody tr th {\n",
              "        vertical-align: top;\n",
              "    }\n",
              "\n",
              "    .dataframe thead th {\n",
              "        text-align: right;\n",
              "    }\n",
              "</style>\n",
              "<table border=\"1\" class=\"dataframe\">\n",
              "  <thead>\n",
              "    <tr style=\"text-align: right;\">\n",
              "      <th></th>\n",
              "      <th>User ID</th>\n",
              "      <th>Gender</th>\n",
              "      <th>Age</th>\n",
              "      <th>EstimatedSalary</th>\n",
              "      <th>Purchased</th>\n",
              "    </tr>\n",
              "  </thead>\n",
              "  <tbody>\n",
              "    <tr>\n",
              "      <th>0</th>\n",
              "      <td>97</td>\n",
              "      <td>1</td>\n",
              "      <td>1</td>\n",
              "      <td>4</td>\n",
              "      <td>0</td>\n",
              "    </tr>\n",
              "    <tr>\n",
              "      <th>1</th>\n",
              "      <td>392</td>\n",
              "      <td>1</td>\n",
              "      <td>17</td>\n",
              "      <td>5</td>\n",
              "      <td>0</td>\n",
              "    </tr>\n",
              "    <tr>\n",
              "      <th>2</th>\n",
              "      <td>155</td>\n",
              "      <td>0</td>\n",
              "      <td>8</td>\n",
              "      <td>26</td>\n",
              "      <td>0</td>\n",
              "    </tr>\n",
              "    <tr>\n",
              "      <th>3</th>\n",
              "      <td>64</td>\n",
              "      <td>0</td>\n",
              "      <td>9</td>\n",
              "      <td>39</td>\n",
              "      <td>0</td>\n",
              "    </tr>\n",
              "    <tr>\n",
              "      <th>4</th>\n",
              "      <td>382</td>\n",
              "      <td>1</td>\n",
              "      <td>1</td>\n",
              "      <td>57</td>\n",
              "      <td>0</td>\n",
              "    </tr>\n",
              "    <tr>\n",
              "      <th>...</th>\n",
              "      <td>...</td>\n",
              "      <td>...</td>\n",
              "      <td>...</td>\n",
              "      <td>...</td>\n",
              "      <td>...</td>\n",
              "    </tr>\n",
              "    <tr>\n",
              "      <th>395</th>\n",
              "      <td>196</td>\n",
              "      <td>0</td>\n",
              "      <td>28</td>\n",
              "      <td>24</td>\n",
              "      <td>1</td>\n",
              "    </tr>\n",
              "    <tr>\n",
              "      <th>396</th>\n",
              "      <td>220</td>\n",
              "      <td>1</td>\n",
              "      <td>33</td>\n",
              "      <td>8</td>\n",
              "      <td>1</td>\n",
              "    </tr>\n",
              "    <tr>\n",
              "      <th>397</th>\n",
              "      <td>130</td>\n",
              "      <td>0</td>\n",
              "      <td>32</td>\n",
              "      <td>5</td>\n",
              "      <td>1</td>\n",
              "    </tr>\n",
              "    <tr>\n",
              "      <th>398</th>\n",
              "      <td>305</td>\n",
              "      <td>1</td>\n",
              "      <td>18</td>\n",
              "      <td>17</td>\n",
              "      <td>0</td>\n",
              "    </tr>\n",
              "    <tr>\n",
              "      <th>399</th>\n",
              "      <td>45</td>\n",
              "      <td>0</td>\n",
              "      <td>31</td>\n",
              "      <td>20</td>\n",
              "      <td>1</td>\n",
              "    </tr>\n",
              "  </tbody>\n",
              "</table>\n",
              "<p>400 rows × 5 columns</p>\n",
              "</div>\n",
              "      <button class=\"colab-df-convert\" onclick=\"convertToInteractive('df-e9244cfd-8b97-470b-9d4e-34a6f574f809')\"\n",
              "              title=\"Convert this dataframe to an interactive table.\"\n",
              "              style=\"display:none;\">\n",
              "        \n",
              "  <svg xmlns=\"http://www.w3.org/2000/svg\" height=\"24px\"viewBox=\"0 0 24 24\"\n",
              "       width=\"24px\">\n",
              "    <path d=\"M0 0h24v24H0V0z\" fill=\"none\"/>\n",
              "    <path d=\"M18.56 5.44l.94 2.06.94-2.06 2.06-.94-2.06-.94-.94-2.06-.94 2.06-2.06.94zm-11 1L8.5 8.5l.94-2.06 2.06-.94-2.06-.94L8.5 2.5l-.94 2.06-2.06.94zm10 10l.94 2.06.94-2.06 2.06-.94-2.06-.94-.94-2.06-.94 2.06-2.06.94z\"/><path d=\"M17.41 7.96l-1.37-1.37c-.4-.4-.92-.59-1.43-.59-.52 0-1.04.2-1.43.59L10.3 9.45l-7.72 7.72c-.78.78-.78 2.05 0 2.83L4 21.41c.39.39.9.59 1.41.59.51 0 1.02-.2 1.41-.59l7.78-7.78 2.81-2.81c.8-.78.8-2.07 0-2.86zM5.41 20L4 18.59l7.72-7.72 1.47 1.35L5.41 20z\"/>\n",
              "  </svg>\n",
              "      </button>\n",
              "      \n",
              "  <style>\n",
              "    .colab-df-container {\n",
              "      display:flex;\n",
              "      flex-wrap:wrap;\n",
              "      gap: 12px;\n",
              "    }\n",
              "\n",
              "    .colab-df-convert {\n",
              "      background-color: #E8F0FE;\n",
              "      border: none;\n",
              "      border-radius: 50%;\n",
              "      cursor: pointer;\n",
              "      display: none;\n",
              "      fill: #1967D2;\n",
              "      height: 32px;\n",
              "      padding: 0 0 0 0;\n",
              "      width: 32px;\n",
              "    }\n",
              "\n",
              "    .colab-df-convert:hover {\n",
              "      background-color: #E2EBFA;\n",
              "      box-shadow: 0px 1px 2px rgba(60, 64, 67, 0.3), 0px 1px 3px 1px rgba(60, 64, 67, 0.15);\n",
              "      fill: #174EA6;\n",
              "    }\n",
              "\n",
              "    [theme=dark] .colab-df-convert {\n",
              "      background-color: #3B4455;\n",
              "      fill: #D2E3FC;\n",
              "    }\n",
              "\n",
              "    [theme=dark] .colab-df-convert:hover {\n",
              "      background-color: #434B5C;\n",
              "      box-shadow: 0px 1px 3px 1px rgba(0, 0, 0, 0.15);\n",
              "      filter: drop-shadow(0px 1px 2px rgba(0, 0, 0, 0.3));\n",
              "      fill: #FFFFFF;\n",
              "    }\n",
              "  </style>\n",
              "\n",
              "      <script>\n",
              "        const buttonEl =\n",
              "          document.querySelector('#df-e9244cfd-8b97-470b-9d4e-34a6f574f809 button.colab-df-convert');\n",
              "        buttonEl.style.display =\n",
              "          google.colab.kernel.accessAllowed ? 'block' : 'none';\n",
              "\n",
              "        async function convertToInteractive(key) {\n",
              "          const element = document.querySelector('#df-e9244cfd-8b97-470b-9d4e-34a6f574f809');\n",
              "          const dataTable =\n",
              "            await google.colab.kernel.invokeFunction('convertToInteractive',\n",
              "                                                     [key], {});\n",
              "          if (!dataTable) return;\n",
              "\n",
              "          const docLinkHtml = 'Like what you see? Visit the ' +\n",
              "            '<a target=\"_blank\" href=https://colab.research.google.com/notebooks/data_table.ipynb>data table notebook</a>'\n",
              "            + ' to learn more about interactive tables.';\n",
              "          element.innerHTML = '';\n",
              "          dataTable['output_type'] = 'display_data';\n",
              "          await google.colab.output.renderOutput(dataTable, element);\n",
              "          const docLink = document.createElement('div');\n",
              "          docLink.innerHTML = docLinkHtml;\n",
              "          element.appendChild(docLink);\n",
              "        }\n",
              "      </script>\n",
              "    </div>\n",
              "  </div>\n",
              "  "
            ]
          },
          "metadata": {},
          "execution_count": 16
        }
      ]
    },
    {
      "cell_type": "markdown",
      "source": [
        "In the given CSV (dataset) purchased column is the final result so we extract the purchased column to a new variable"
      ],
      "metadata": {
        "id": "u2U-cMiVvZmA"
      }
    },
    {
      "cell_type": "code",
      "source": [
        "x=df.drop(['Purchased'],axis=1)#removes the specified feature\n",
        "y=df['Purchased']#assigned the result feature to a new variable\n"
      ],
      "metadata": {
        "id": "hIZP_Rbwvz6d"
      },
      "execution_count": null,
      "outputs": []
    },
    {
      "cell_type": "markdown",
      "source": [
        "Preparing the training and testing datasets\n"
      ],
      "metadata": {
        "id": "Z71REXkNw2HA"
      }
    },
    {
      "cell_type": "code",
      "source": [
        "#creates the entire training and testing datasets at a time using sklearn module\n",
        "from sklearn.model_selection import train_test_split\n",
        "x_train,x_test,y_train,y_test=train_test_split(x,y,test_size=.25,random_state=0)"
      ],
      "metadata": {
        "colab": {
          "base_uri": "https://localhost:8080/"
        },
        "id": "qMXY5bpAw9E2",
        "outputId": "f1f991ff-8824-414a-e7a8-e38a112f5cb3"
      },
      "execution_count": null,
      "outputs": [
        {
          "output_type": "stream",
          "name": "stdout",
          "text": [
            "     User ID  Gender  Age  EstimatedSalary\n",
            "250      390       0   26               23\n",
            "63        26       1   14               94\n",
            "312      270       0   20               33\n",
            "159       57       0   14              104\n",
            "283      142       0   34                6\n",
            "..       ...     ...  ...              ...\n",
            "323       89       0   30               14\n",
            "192      345       1   11               26\n",
            "117       39       1   18               35\n",
            "47       339       0    9               37\n",
            "172      369       0    8               92\n",
            "\n",
            "[300 rows x 4 columns]\n",
            "\n",
            "\n",
            "Data Set\n",
            "\n",
            "\n",
            "     User ID  Gender  Age  EstimatedSalary\n",
            "132      257       1   12               68\n",
            "309      128       0   20               33\n",
            "341      341       1   17               56\n",
            "196      279       0   12               60\n",
            "246      113       0   17               33\n",
            "..       ...     ...  ...              ...\n",
            "146      301       0    9               75\n",
            "135       16       1    5               45\n",
            "390      386       1   30               17\n",
            "264       60       1   30               71\n",
            "364      131       1   24               81\n",
            "\n",
            "[100 rows x 4 columns]\n",
            "\n",
            "\n",
            "Data Set\n",
            "\n",
            "\n",
            "250    0\n",
            "63     1\n",
            "312    0\n",
            "159    1\n",
            "283    1\n",
            "      ..\n",
            "323    1\n",
            "192    0\n",
            "117    0\n",
            "47     0\n",
            "172    0\n",
            "Name: Purchased, Length: 300, dtype: int64\n",
            "\n",
            "\n",
            "Data Set\n",
            "\n",
            "\n",
            "132    0\n",
            "309    0\n",
            "341    0\n",
            "196    0\n",
            "246    0\n",
            "      ..\n",
            "146    1\n",
            "135    0\n",
            "390    1\n",
            "264    1\n",
            "364    1\n",
            "Name: Purchased, Length: 100, dtype: int64\n"
          ]
        }
      ]
    },
    {
      "cell_type": "markdown",
      "source": [
        "# **Decision Tree**"
      ],
      "metadata": {
        "id": "61bHDE26yJzi"
      }
    },
    {
      "cell_type": "markdown",
      "source": [
        "Decision tree classification"
      ],
      "metadata": {
        "id": "od14dvjbzbQN"
      }
    },
    {
      "cell_type": "code",
      "source": [
        "from sklearn.tree import DecisionTreeClassifier\n",
        "classifier=DecisionTreeClassifier(criterion='entropy',random_state=1)\n",
        "classifier.fit(x_train,y_train)\n",
        "y_pred=classifier.predict(x_test)#this command will get the y values based on the x_test values\n",
        "data_predicted=pd.DataFrame({'Actual':y_test,'Predicted':y_pred})\n",
        "data_predicted\n"
      ],
      "metadata": {
        "colab": {
          "base_uri": "https://localhost:8080/",
          "height": 423
        },
        "id": "1B7EIxlSyMsE",
        "outputId": "d5981c9c-4da1-46f6-ab60-09a12a0629fe"
      },
      "execution_count": null,
      "outputs": [
        {
          "output_type": "execute_result",
          "data": {
            "text/plain": [
              "     Actual  Predicted\n",
              "132       0          0\n",
              "309       0          0\n",
              "341       0          0\n",
              "196       0          0\n",
              "246       0          0\n",
              "..      ...        ...\n",
              "146       1          1\n",
              "135       0          0\n",
              "390       1          1\n",
              "264       1          0\n",
              "364       1          1\n",
              "\n",
              "[100 rows x 2 columns]"
            ],
            "text/html": [
              "\n",
              "  <div id=\"df-117cf7a4-41c4-4427-b6b5-bccf96dedf61\">\n",
              "    <div class=\"colab-df-container\">\n",
              "      <div>\n",
              "<style scoped>\n",
              "    .dataframe tbody tr th:only-of-type {\n",
              "        vertical-align: middle;\n",
              "    }\n",
              "\n",
              "    .dataframe tbody tr th {\n",
              "        vertical-align: top;\n",
              "    }\n",
              "\n",
              "    .dataframe thead th {\n",
              "        text-align: right;\n",
              "    }\n",
              "</style>\n",
              "<table border=\"1\" class=\"dataframe\">\n",
              "  <thead>\n",
              "    <tr style=\"text-align: right;\">\n",
              "      <th></th>\n",
              "      <th>Actual</th>\n",
              "      <th>Predicted</th>\n",
              "    </tr>\n",
              "  </thead>\n",
              "  <tbody>\n",
              "    <tr>\n",
              "      <th>132</th>\n",
              "      <td>0</td>\n",
              "      <td>0</td>\n",
              "    </tr>\n",
              "    <tr>\n",
              "      <th>309</th>\n",
              "      <td>0</td>\n",
              "      <td>0</td>\n",
              "    </tr>\n",
              "    <tr>\n",
              "      <th>341</th>\n",
              "      <td>0</td>\n",
              "      <td>0</td>\n",
              "    </tr>\n",
              "    <tr>\n",
              "      <th>196</th>\n",
              "      <td>0</td>\n",
              "      <td>0</td>\n",
              "    </tr>\n",
              "    <tr>\n",
              "      <th>246</th>\n",
              "      <td>0</td>\n",
              "      <td>0</td>\n",
              "    </tr>\n",
              "    <tr>\n",
              "      <th>...</th>\n",
              "      <td>...</td>\n",
              "      <td>...</td>\n",
              "    </tr>\n",
              "    <tr>\n",
              "      <th>146</th>\n",
              "      <td>1</td>\n",
              "      <td>1</td>\n",
              "    </tr>\n",
              "    <tr>\n",
              "      <th>135</th>\n",
              "      <td>0</td>\n",
              "      <td>0</td>\n",
              "    </tr>\n",
              "    <tr>\n",
              "      <th>390</th>\n",
              "      <td>1</td>\n",
              "      <td>1</td>\n",
              "    </tr>\n",
              "    <tr>\n",
              "      <th>264</th>\n",
              "      <td>1</td>\n",
              "      <td>0</td>\n",
              "    </tr>\n",
              "    <tr>\n",
              "      <th>364</th>\n",
              "      <td>1</td>\n",
              "      <td>1</td>\n",
              "    </tr>\n",
              "  </tbody>\n",
              "</table>\n",
              "<p>100 rows × 2 columns</p>\n",
              "</div>\n",
              "      <button class=\"colab-df-convert\" onclick=\"convertToInteractive('df-117cf7a4-41c4-4427-b6b5-bccf96dedf61')\"\n",
              "              title=\"Convert this dataframe to an interactive table.\"\n",
              "              style=\"display:none;\">\n",
              "        \n",
              "  <svg xmlns=\"http://www.w3.org/2000/svg\" height=\"24px\"viewBox=\"0 0 24 24\"\n",
              "       width=\"24px\">\n",
              "    <path d=\"M0 0h24v24H0V0z\" fill=\"none\"/>\n",
              "    <path d=\"M18.56 5.44l.94 2.06.94-2.06 2.06-.94-2.06-.94-.94-2.06-.94 2.06-2.06.94zm-11 1L8.5 8.5l.94-2.06 2.06-.94-2.06-.94L8.5 2.5l-.94 2.06-2.06.94zm10 10l.94 2.06.94-2.06 2.06-.94-2.06-.94-.94-2.06-.94 2.06-2.06.94z\"/><path d=\"M17.41 7.96l-1.37-1.37c-.4-.4-.92-.59-1.43-.59-.52 0-1.04.2-1.43.59L10.3 9.45l-7.72 7.72c-.78.78-.78 2.05 0 2.83L4 21.41c.39.39.9.59 1.41.59.51 0 1.02-.2 1.41-.59l7.78-7.78 2.81-2.81c.8-.78.8-2.07 0-2.86zM5.41 20L4 18.59l7.72-7.72 1.47 1.35L5.41 20z\"/>\n",
              "  </svg>\n",
              "      </button>\n",
              "      \n",
              "  <style>\n",
              "    .colab-df-container {\n",
              "      display:flex;\n",
              "      flex-wrap:wrap;\n",
              "      gap: 12px;\n",
              "    }\n",
              "\n",
              "    .colab-df-convert {\n",
              "      background-color: #E8F0FE;\n",
              "      border: none;\n",
              "      border-radius: 50%;\n",
              "      cursor: pointer;\n",
              "      display: none;\n",
              "      fill: #1967D2;\n",
              "      height: 32px;\n",
              "      padding: 0 0 0 0;\n",
              "      width: 32px;\n",
              "    }\n",
              "\n",
              "    .colab-df-convert:hover {\n",
              "      background-color: #E2EBFA;\n",
              "      box-shadow: 0px 1px 2px rgba(60, 64, 67, 0.3), 0px 1px 3px 1px rgba(60, 64, 67, 0.15);\n",
              "      fill: #174EA6;\n",
              "    }\n",
              "\n",
              "    [theme=dark] .colab-df-convert {\n",
              "      background-color: #3B4455;\n",
              "      fill: #D2E3FC;\n",
              "    }\n",
              "\n",
              "    [theme=dark] .colab-df-convert:hover {\n",
              "      background-color: #434B5C;\n",
              "      box-shadow: 0px 1px 3px 1px rgba(0, 0, 0, 0.15);\n",
              "      filter: drop-shadow(0px 1px 2px rgba(0, 0, 0, 0.3));\n",
              "      fill: #FFFFFF;\n",
              "    }\n",
              "  </style>\n",
              "\n",
              "      <script>\n",
              "        const buttonEl =\n",
              "          document.querySelector('#df-117cf7a4-41c4-4427-b6b5-bccf96dedf61 button.colab-df-convert');\n",
              "        buttonEl.style.display =\n",
              "          google.colab.kernel.accessAllowed ? 'block' : 'none';\n",
              "\n",
              "        async function convertToInteractive(key) {\n",
              "          const element = document.querySelector('#df-117cf7a4-41c4-4427-b6b5-bccf96dedf61');\n",
              "          const dataTable =\n",
              "            await google.colab.kernel.invokeFunction('convertToInteractive',\n",
              "                                                     [key], {});\n",
              "          if (!dataTable) return;\n",
              "\n",
              "          const docLinkHtml = 'Like what you see? Visit the ' +\n",
              "            '<a target=\"_blank\" href=https://colab.research.google.com/notebooks/data_table.ipynb>data table notebook</a>'\n",
              "            + ' to learn more about interactive tables.';\n",
              "          element.innerHTML = '';\n",
              "          dataTable['output_type'] = 'display_data';\n",
              "          await google.colab.output.renderOutput(dataTable, element);\n",
              "          const docLink = document.createElement('div');\n",
              "          docLink.innerHTML = docLinkHtml;\n",
              "          element.appendChild(docLink);\n",
              "        }\n",
              "      </script>\n",
              "    </div>\n",
              "  </div>\n",
              "  "
            ]
          },
          "metadata": {},
          "execution_count": 39
        }
      ]
    },
    {
      "cell_type": "markdown",
      "source": [
        "Creating a Confusion Matrix \n",
        "\n",
        "\n",
        "> Note: From here we use mostly metrics package under sklearn\n",
        "\n"
      ],
      "metadata": {
        "id": "yKCW-bhAzhUw"
      }
    },
    {
      "cell_type": "code",
      "source": [
        "from sklearn.metrics import confusion_matrix\n",
        "cm=confusion_matrix(y_test,y_pred)\n",
        "cm"
      ],
      "metadata": {
        "colab": {
          "base_uri": "https://localhost:8080/"
        },
        "id": "y6Dbwvljzmpc",
        "outputId": "d5a93ea7-9dbe-48bf-b8fa-8dbe10462dc0"
      },
      "execution_count": null,
      "outputs": [
        {
          "output_type": "execute_result",
          "data": {
            "text/plain": [
              "array([[65,  3],\n",
              "       [ 7, 25]])"
            ]
          },
          "metadata": {},
          "execution_count": 40
        }
      ]
    },
    {
      "cell_type": "markdown",
      "source": [
        "***Scores***"
      ],
      "metadata": {
        "id": "b-Zz-hfx0NzD"
      }
    },
    {
      "cell_type": "markdown",
      "source": [
        "Accuracy Score"
      ],
      "metadata": {
        "id": "YmkGC8GR0T8_"
      }
    },
    {
      "cell_type": "code",
      "source": [
        "from sklearn.metrics import accuracy_score\n",
        "print(\"Accuracy score: \",accuracy_score(y_test,y_pred)*100)"
      ],
      "metadata": {
        "colab": {
          "base_uri": "https://localhost:8080/"
        },
        "id": "1IcRDH300XOz",
        "outputId": "32b1f01e-c827-427d-be08-db59d1ada9d2"
      },
      "execution_count": null,
      "outputs": [
        {
          "output_type": "stream",
          "name": "stdout",
          "text": [
            "Accuracy score:  90.0\n"
          ]
        }
      ]
    },
    {
      "cell_type": "markdown",
      "source": [
        "Precision Score"
      ],
      "metadata": {
        "id": "MrFPeS2V0lEV"
      }
    },
    {
      "cell_type": "code",
      "source": [
        "from sklearn.metrics import precision_score\n",
        "print(\"Precision score: \",precision_score(y_test,y_pred)*100)"
      ],
      "metadata": {
        "colab": {
          "base_uri": "https://localhost:8080/"
        },
        "id": "b1SYt4lK0m5w",
        "outputId": "196bf115-72ac-4913-eae1-03616b74b28c"
      },
      "execution_count": null,
      "outputs": [
        {
          "output_type": "stream",
          "name": "stdout",
          "text": [
            "Accuracy score:  89.28571428571429\n"
          ]
        }
      ]
    },
    {
      "cell_type": "markdown",
      "source": [
        "Recall Score"
      ],
      "metadata": {
        "id": "0VvKvTWf0toa"
      }
    },
    {
      "cell_type": "code",
      "source": [
        "from sklearn.metrics import recall_score\n",
        "print(\"Recall score: \",recall_score(y_test,y_pred)*100)"
      ],
      "metadata": {
        "colab": {
          "base_uri": "https://localhost:8080/"
        },
        "id": "UiumadHq0vw8",
        "outputId": "88e775f1-1c28-477b-dc76-4ba4ad15bfbf"
      },
      "execution_count": null,
      "outputs": [
        {
          "output_type": "stream",
          "name": "stdout",
          "text": [
            "Recall score:  78.125\n"
          ]
        }
      ]
    },
    {
      "cell_type": "markdown",
      "source": [
        "F1 Score"
      ],
      "metadata": {
        "id": "TpkFiN5n1Cf1"
      }
    },
    {
      "cell_type": "code",
      "source": [
        "from sklearn.metrics import f1_score\n",
        "print(\"F1 score: \",f1_score(y_test,y_pred)*100)"
      ],
      "metadata": {
        "colab": {
          "base_uri": "https://localhost:8080/"
        },
        "id": "R8FWOyxD1ERb",
        "outputId": "68efb27e-c628-4715-9e6e-9665d6f2c05f"
      },
      "execution_count": null,
      "outputs": [
        {
          "output_type": "stream",
          "name": "stdout",
          "text": [
            "F1 score:  83.33333333333334\n"
          ]
        }
      ]
    },
    {
      "cell_type": "markdown",
      "source": [
        "# **Decision Tree Visualization**"
      ],
      "metadata": {
        "id": "pK31sr_E1Mbv"
      }
    },
    {
      "cell_type": "markdown",
      "source": [
        "Tree visualization using tree.plot_tree"
      ],
      "metadata": {
        "id": "W6WD7O6p1Z5T"
      }
    },
    {
      "cell_type": "code",
      "source": [
        "from sklearn import tree\n",
        "tree.plot_tree(classifier)"
      ],
      "metadata": {
        "colab": {
          "base_uri": "https://localhost:8080/",
          "height": 248
        },
        "id": "AnXpMJ1t1ZNo",
        "outputId": "841f2cc3-c836-4878-a255-41e46b0d2b9f"
      },
      "execution_count": null,
      "outputs": [
        {
          "output_type": "display_data",
          "data": {
            "text/plain": [
              "<Figure size 432x288 with 1 Axes>"
            ],
            "image/png": "[encoded data removed]"
          },
          "metadata": {
            "needs_background": "light"
          }
        }
      ]
    },
    {
      "cell_type": "markdown",
      "source": [
        "Graphviz"
      ],
      "metadata": {
        "id": "qSxrKOhQ2Jxa"
      }
    },
    {
      "cell_type": "code",
      "source": [
        "import graphviz\n",
        "dot_data=tree.export_graphviz(classifier,out_file=None)\n",
        "graph=graphviz.Source(dot_data)\n",
        "graph"
      ],
      "metadata": {
        "colab": {
          "base_uri": "https://localhost:8080/",
          "height": 1000
        },
        "id": "PwJcr1UR2MEz",
        "outputId": "37a62bba-3ec5-4c25-f5e1-f5556d8c0640"
      },
      "execution_count": null,
      "outputs": [
        {
          "output_type": "execute_result",
          "data": {
            "text/plain": [
              "<graphviz.files.Source at 0x7fbd352a8730>"
            ],
            "image/svg+xml": "<?xml version=\"1.0\" encoding=\"UTF-8\" standalone=\"no\"?>\n<!DOCTYPE svg PUBLIC \"-//W3C//DTD SVG 1.1//EN\"\n \"http://www.w3.org/Graphics/SVG/1.1/DTD/svg11.dtd\">\n<!-- Generated by graphviz version 2.43.0 (0)\n -->\n<!-- Title: Tree Pages: 1 -->\n<svg width=\"1412pt\" height=\"1413pt\"\n viewBox=\"0.00 0.00 1412.00 1413.00\" xmlns=\"http://www.w3.org/2000/svg\" xmlns:xlink=\"http://www.w3.org/1999/xlink\">\n<g id=\"graph0\" class=\"graph\" transform=\"scale(1 1) rotate(0) translate(4 1409)\">\n<title>Tree</title>\n<polygon fill=\"white\" stroke=\"transparent\" points=\"-4,4 -4,-1409 1408,-1409 1408,4 -4,4\"/>\n<!-- 0 -->\n<g id=\"node1\" class=\"node\">\n<title>0</title>\n<polygon fill=\"none\" stroke=\"black\" points=\"666.5,-1405 541.5,-1405 541.5,-1337 666.5,-1337 666.5,-1405\"/>\n<text text-anchor=\"middle\" x=\"604\" y=\"-1389.8\" font-family=\"Helvetica,sans-Serif\" font-size=\"14.00\">X[2] &lt;= 26.5</text>\n<text text-anchor=\"middle\" x=\"604\" y=\"-1374.8\" font-family=\"Helvetica,sans-Serif\" font-size=\"14.00\">entropy = 0.951</text>\n<text text-anchor=\"middle\" x=\"604\" y=\"-1359.8\" font-family=\"Helvetica,sans-Serif\" font-size=\"14.00\">samples = 300</text>\n<text text-anchor=\"middle\" x=\"604\" y=\"-1344.8\" font-family=\"Helvetica,sans-Serif\" font-size=\"14.00\">value = [189, 111]</text>\n</g>\n<!-- 1 -->\n<g id=\"node2\" class=\"node\">\n<title>1</title>\n<polygon fill=\"none\" stroke=\"black\" points=\"487.5,-1301 370.5,-1301 370.5,-1233 487.5,-1233 487.5,-1301\"/>\n<text text-anchor=\"middle\" x=\"429\" y=\"-1285.8\" font-family=\"Helvetica,sans-Serif\" font-size=\"14.00\">X[3] &lt;= 71.5</text>\n<text text-anchor=\"middle\" x=\"429\" y=\"-1270.8\" font-family=\"Helvetica,sans-Serif\" font-size=\"14.00\">entropy = 0.693</text>\n<text text-anchor=\"middle\" x=\"429\" y=\"-1255.8\" font-family=\"Helvetica,sans-Serif\" font-size=\"14.00\">samples = 215</text>\n<text text-anchor=\"middle\" x=\"429\" y=\"-1240.8\" font-family=\"Helvetica,sans-Serif\" font-size=\"14.00\">value = [175, 40]</text>\n</g>\n<!-- 0&#45;&gt;1 -->\n<g id=\"edge1\" class=\"edge\">\n<title>0&#45;&gt;1</title>\n<path fill=\"none\" stroke=\"black\" d=\"M547.18,-1336.88C530.44,-1327.12 511.98,-1316.37 494.73,-1306.31\"/>\n<polygon fill=\"black\" stroke=\"black\" points=\"496.23,-1303.14 485.83,-1301.12 492.71,-1309.18 496.23,-1303.14\"/>\n<text text-anchor=\"middle\" x=\"492.2\" y=\"-1321.6\" font-family=\"Helvetica,sans-Serif\" font-size=\"14.00\">True</text>\n</g>\n<!-- 40 -->\n<g id=\"node41\" class=\"node\">\n<title>40</title>\n<polygon fill=\"none\" stroke=\"black\" points=\"822.5,-1301 711.5,-1301 711.5,-1233 822.5,-1233 822.5,-1301\"/>\n<text text-anchor=\"middle\" x=\"767\" y=\"-1285.8\" font-family=\"Helvetica,sans-Serif\" font-size=\"14.00\">X[3] &lt;= 24.5</text>\n<text text-anchor=\"middle\" x=\"767\" y=\"-1270.8\" font-family=\"Helvetica,sans-Serif\" font-size=\"14.00\">entropy = 0.645</text>\n<text text-anchor=\"middle\" x=\"767\" y=\"-1255.8\" font-family=\"Helvetica,sans-Serif\" font-size=\"14.00\">samples = 85</text>\n<text text-anchor=\"middle\" x=\"767\" y=\"-1240.8\" font-family=\"Helvetica,sans-Serif\" font-size=\"14.00\">value = [14, 71]</text>\n</g>\n<!-- 0&#45;&gt;40 -->\n<g id=\"edge40\" class=\"edge\">\n<title>0&#45;&gt;40</title>\n<path fill=\"none\" stroke=\"black\" d=\"M656.92,-1336.88C672.37,-1327.21 689.39,-1316.56 705.34,-1306.59\"/>\n<polygon fill=\"black\" stroke=\"black\" points=\"707.44,-1309.4 714.07,-1301.12 703.73,-1303.46 707.44,-1309.4\"/>\n<text text-anchor=\"middle\" x=\"708.46\" y=\"-1321.79\" font-family=\"Helvetica,sans-Serif\" font-size=\"14.00\">False</text>\n</g>\n<!-- 2 -->\n<g id=\"node3\" class=\"node\">\n<title>2</title>\n<polygon fill=\"none\" stroke=\"black\" points=\"330.5,-1197 219.5,-1197 219.5,-1129 330.5,-1129 330.5,-1197\"/>\n<text text-anchor=\"middle\" x=\"275\" y=\"-1181.8\" font-family=\"Helvetica,sans-Serif\" font-size=\"14.00\">X[2] &lt;= 18.5</text>\n<text text-anchor=\"middle\" x=\"275\" y=\"-1166.8\" font-family=\"Helvetica,sans-Serif\" font-size=\"14.00\">entropy = 0.241</text>\n<text text-anchor=\"middle\" x=\"275\" y=\"-1151.8\" font-family=\"Helvetica,sans-Serif\" font-size=\"14.00\">samples = 176</text>\n<text text-anchor=\"middle\" x=\"275\" y=\"-1136.8\" font-family=\"Helvetica,sans-Serif\" font-size=\"14.00\">value = [169, 7]</text>\n</g>\n<!-- 1&#45;&gt;2 -->\n<g id=\"edge2\" class=\"edge\">\n<title>1&#45;&gt;2</title>\n<path fill=\"none\" stroke=\"black\" d=\"M379,-1232.88C364.54,-1223.3 348.62,-1212.76 333.68,-1202.86\"/>\n<polygon fill=\"black\" stroke=\"black\" points=\"335.28,-1199.73 325.01,-1197.12 331.42,-1205.56 335.28,-1199.73\"/>\n</g>\n<!-- 25 -->\n<g id=\"node26\" class=\"node\">\n<title>25</title>\n<polygon fill=\"none\" stroke=\"black\" points=\"484.5,-1197 373.5,-1197 373.5,-1129 484.5,-1129 484.5,-1197\"/>\n<text text-anchor=\"middle\" x=\"429\" y=\"-1181.8\" font-family=\"Helvetica,sans-Serif\" font-size=\"14.00\">X[3] &lt;= 102.5</text>\n<text text-anchor=\"middle\" x=\"429\" y=\"-1166.8\" font-family=\"Helvetica,sans-Serif\" font-size=\"14.00\">entropy = 0.619</text>\n<text text-anchor=\"middle\" x=\"429\" y=\"-1151.8\" font-family=\"Helvetica,sans-Serif\" font-size=\"14.00\">samples = 39</text>\n<text text-anchor=\"middle\" x=\"429\" y=\"-1136.8\" font-family=\"Helvetica,sans-Serif\" font-size=\"14.00\">value = [6, 33]</text>\n</g>\n<!-- 1&#45;&gt;25 -->\n<g id=\"edge25\" class=\"edge\">\n<title>1&#45;&gt;25</title>\n<path fill=\"none\" stroke=\"black\" d=\"M429,-1232.88C429,-1224.78 429,-1215.98 429,-1207.47\"/>\n<polygon fill=\"black\" stroke=\"black\" points=\"432.5,-1207.3 429,-1197.3 425.5,-1207.3 432.5,-1207.3\"/>\n</g>\n<!-- 3 -->\n<g id=\"node4\" class=\"node\">\n<title>3</title>\n<polygon fill=\"none\" stroke=\"black\" points=\"201,-1085.5 91,-1085.5 91,-1032.5 201,-1032.5 201,-1085.5\"/>\n<text text-anchor=\"middle\" x=\"146\" y=\"-1070.3\" font-family=\"Helvetica,sans-Serif\" font-size=\"14.00\">entropy = 0.0</text>\n<text text-anchor=\"middle\" x=\"146\" y=\"-1055.3\" font-family=\"Helvetica,sans-Serif\" font-size=\"14.00\">samples = 114</text>\n<text text-anchor=\"middle\" x=\"146\" y=\"-1040.3\" font-family=\"Helvetica,sans-Serif\" font-size=\"14.00\">value = [114, 0]</text>\n</g>\n<!-- 2&#45;&gt;3 -->\n<g id=\"edge3\" class=\"edge\">\n<title>2&#45;&gt;3</title>\n<path fill=\"none\" stroke=\"black\" d=\"M233.12,-1128.88C218.1,-1117.01 201.2,-1103.65 186.31,-1091.88\"/>\n<polygon fill=\"black\" stroke=\"black\" points=\"188.29,-1088.98 178.28,-1085.52 183.95,-1094.47 188.29,-1088.98\"/>\n</g>\n<!-- 4 -->\n<g id=\"node5\" class=\"node\">\n<title>4</title>\n<polygon fill=\"none\" stroke=\"black\" points=\"330.5,-1093 219.5,-1093 219.5,-1025 330.5,-1025 330.5,-1093\"/>\n<text text-anchor=\"middle\" x=\"275\" y=\"-1077.8\" font-family=\"Helvetica,sans-Serif\" font-size=\"14.00\">X[3] &lt;= 49.0</text>\n<text text-anchor=\"middle\" x=\"275\" y=\"-1062.8\" font-family=\"Helvetica,sans-Serif\" font-size=\"14.00\">entropy = 0.509</text>\n<text text-anchor=\"middle\" x=\"275\" y=\"-1047.8\" font-family=\"Helvetica,sans-Serif\" font-size=\"14.00\">samples = 62</text>\n<text text-anchor=\"middle\" x=\"275\" y=\"-1032.8\" font-family=\"Helvetica,sans-Serif\" font-size=\"14.00\">value = [55, 7]</text>\n</g>\n<!-- 2&#45;&gt;4 -->\n<g id=\"edge4\" class=\"edge\">\n<title>2&#45;&gt;4</title>\n<path fill=\"none\" stroke=\"black\" d=\"M275,-1128.88C275,-1120.78 275,-1111.98 275,-1103.47\"/>\n<polygon fill=\"black\" stroke=\"black\" points=\"278.5,-1103.3 275,-1093.3 271.5,-1103.3 278.5,-1103.3\"/>\n</g>\n<!-- 5 -->\n<g id=\"node6\" class=\"node\">\n<title>5</title>\n<polygon fill=\"none\" stroke=\"black\" points=\"201,-981.5 99,-981.5 99,-928.5 201,-928.5 201,-981.5\"/>\n<text text-anchor=\"middle\" x=\"150\" y=\"-966.3\" font-family=\"Helvetica,sans-Serif\" font-size=\"14.00\">entropy = 0.0</text>\n<text text-anchor=\"middle\" x=\"150\" y=\"-951.3\" font-family=\"Helvetica,sans-Serif\" font-size=\"14.00\">samples = 31</text>\n<text text-anchor=\"middle\" x=\"150\" y=\"-936.3\" font-family=\"Helvetica,sans-Serif\" font-size=\"14.00\">value = [31, 0]</text>\n</g>\n<!-- 4&#45;&gt;5 -->\n<g id=\"edge5\" class=\"edge\">\n<title>4&#45;&gt;5</title>\n<path fill=\"none\" stroke=\"black\" d=\"M234.42,-1024.88C219.86,-1013.01 203.49,-999.65 189.06,-987.88\"/>\n<polygon fill=\"black\" stroke=\"black\" points=\"191.24,-985.13 181.27,-981.52 186.81,-990.55 191.24,-985.13\"/>\n</g>\n<!-- 6 -->\n<g id=\"node7\" class=\"node\">\n<title>6</title>\n<polygon fill=\"none\" stroke=\"black\" points=\"330.5,-989 219.5,-989 219.5,-921 330.5,-921 330.5,-989\"/>\n<text text-anchor=\"middle\" x=\"275\" y=\"-973.8\" font-family=\"Helvetica,sans-Serif\" font-size=\"14.00\">X[3] &lt;= 64.5</text>\n<text text-anchor=\"middle\" x=\"275\" y=\"-958.8\" font-family=\"Helvetica,sans-Serif\" font-size=\"14.00\">entropy = 0.771</text>\n<text text-anchor=\"middle\" x=\"275\" y=\"-943.8\" font-family=\"Helvetica,sans-Serif\" font-size=\"14.00\">samples = 31</text>\n<text text-anchor=\"middle\" x=\"275\" y=\"-928.8\" font-family=\"Helvetica,sans-Serif\" font-size=\"14.00\">value = [24, 7]</text>\n</g>\n<!-- 4&#45;&gt;6 -->\n<g id=\"edge6\" class=\"edge\">\n<title>4&#45;&gt;6</title>\n<path fill=\"none\" stroke=\"black\" d=\"M275,-1024.88C275,-1016.78 275,-1007.98 275,-999.47\"/>\n<polygon fill=\"black\" stroke=\"black\" points=\"278.5,-999.3 275,-989.3 271.5,-999.3 278.5,-999.3\"/>\n</g>\n<!-- 7 -->\n<g id=\"node8\" class=\"node\">\n<title>7</title>\n<polygon fill=\"none\" stroke=\"black\" points=\"212.5,-885 101.5,-885 101.5,-817 212.5,-817 212.5,-885\"/>\n<text text-anchor=\"middle\" x=\"157\" y=\"-869.8\" font-family=\"Helvetica,sans-Serif\" font-size=\"14.00\">X[3] &lt;= 51.5</text>\n<text text-anchor=\"middle\" x=\"157\" y=\"-854.8\" font-family=\"Helvetica,sans-Serif\" font-size=\"14.00\">entropy = 0.663</text>\n<text text-anchor=\"middle\" x=\"157\" y=\"-839.8\" font-family=\"Helvetica,sans-Serif\" font-size=\"14.00\">samples = 29</text>\n<text text-anchor=\"middle\" x=\"157\" y=\"-824.8\" font-family=\"Helvetica,sans-Serif\" font-size=\"14.00\">value = [24, 5]</text>\n</g>\n<!-- 6&#45;&gt;7 -->\n<g id=\"edge7\" class=\"edge\">\n<title>6&#45;&gt;7</title>\n<path fill=\"none\" stroke=\"black\" d=\"M236.69,-920.88C225.97,-911.62 214.21,-901.45 203.1,-891.85\"/>\n<polygon fill=\"black\" stroke=\"black\" points=\"205.38,-889.19 195.52,-885.3 200.8,-894.49 205.38,-889.19\"/>\n</g>\n<!-- 24 -->\n<g id=\"node25\" class=\"node\">\n<title>24</title>\n<polygon fill=\"none\" stroke=\"black\" points=\"327,-877.5 231,-877.5 231,-824.5 327,-824.5 327,-877.5\"/>\n<text text-anchor=\"middle\" x=\"279\" y=\"-862.3\" font-family=\"Helvetica,sans-Serif\" font-size=\"14.00\">entropy = 0.0</text>\n<text text-anchor=\"middle\" x=\"279\" y=\"-847.3\" font-family=\"Helvetica,sans-Serif\" font-size=\"14.00\">samples = 2</text>\n<text text-anchor=\"middle\" x=\"279\" y=\"-832.3\" font-family=\"Helvetica,sans-Serif\" font-size=\"14.00\">value = [0, 2]</text>\n</g>\n<!-- 6&#45;&gt;24 -->\n<g id=\"edge24\" class=\"edge\">\n<title>6&#45;&gt;24</title>\n<path fill=\"none\" stroke=\"black\" d=\"M276.3,-920.88C276.72,-910.22 277.18,-898.35 277.61,-887.52\"/>\n<polygon fill=\"black\" stroke=\"black\" points=\"281.1,-887.65 278,-877.52 274.11,-887.38 281.1,-887.65\"/>\n</g>\n<!-- 8 -->\n<g id=\"node9\" class=\"node\">\n<title>8</title>\n<polygon fill=\"none\" stroke=\"black\" points=\"96,-773.5 0,-773.5 0,-720.5 96,-720.5 96,-773.5\"/>\n<text text-anchor=\"middle\" x=\"48\" y=\"-758.3\" font-family=\"Helvetica,sans-Serif\" font-size=\"14.00\">entropy = 0.0</text>\n<text text-anchor=\"middle\" x=\"48\" y=\"-743.3\" font-family=\"Helvetica,sans-Serif\" font-size=\"14.00\">samples = 1</text>\n<text text-anchor=\"middle\" x=\"48\" y=\"-728.3\" font-family=\"Helvetica,sans-Serif\" font-size=\"14.00\">value = [0, 1]</text>\n</g>\n<!-- 7&#45;&gt;8 -->\n<g id=\"edge8\" class=\"edge\">\n<title>7&#45;&gt;8</title>\n<path fill=\"none\" stroke=\"black\" d=\"M121.61,-816.88C109.15,-805.23 95.17,-792.14 82.76,-780.53\"/>\n<polygon fill=\"black\" stroke=\"black\" points=\"84.96,-777.8 75.27,-773.52 80.18,-782.91 84.96,-777.8\"/>\n</g>\n<!-- 9 -->\n<g id=\"node10\" class=\"node\">\n<title>9</title>\n<polygon fill=\"none\" stroke=\"black\" points=\"225.5,-781 114.5,-781 114.5,-713 225.5,-713 225.5,-781\"/>\n<text text-anchor=\"middle\" x=\"170\" y=\"-765.8\" font-family=\"Helvetica,sans-Serif\" font-size=\"14.00\">X[0] &lt;= 13.5</text>\n<text text-anchor=\"middle\" x=\"170\" y=\"-750.8\" font-family=\"Helvetica,sans-Serif\" font-size=\"14.00\">entropy = 0.592</text>\n<text text-anchor=\"middle\" x=\"170\" y=\"-735.8\" font-family=\"Helvetica,sans-Serif\" font-size=\"14.00\">samples = 28</text>\n<text text-anchor=\"middle\" x=\"170\" y=\"-720.8\" font-family=\"Helvetica,sans-Serif\" font-size=\"14.00\">value = [24, 4]</text>\n</g>\n<!-- 7&#45;&gt;9 -->\n<g id=\"edge9\" class=\"edge\">\n<title>7&#45;&gt;9</title>\n<path fill=\"none\" stroke=\"black\" d=\"M161.22,-816.88C162.25,-808.78 163.37,-799.98 164.46,-791.47\"/>\n<polygon fill=\"black\" stroke=\"black\" points=\"167.96,-791.66 165.76,-781.3 161.02,-790.78 167.96,-791.66\"/>\n</g>\n<!-- 10 -->\n<g id=\"node11\" class=\"node\">\n<title>10</title>\n<polygon fill=\"none\" stroke=\"black\" points=\"122,-669.5 26,-669.5 26,-616.5 122,-616.5 122,-669.5\"/>\n<text text-anchor=\"middle\" x=\"74\" y=\"-654.3\" font-family=\"Helvetica,sans-Serif\" font-size=\"14.00\">entropy = 0.0</text>\n<text text-anchor=\"middle\" x=\"74\" y=\"-639.3\" font-family=\"Helvetica,sans-Serif\" font-size=\"14.00\">samples = 1</text>\n<text text-anchor=\"middle\" x=\"74\" y=\"-624.3\" font-family=\"Helvetica,sans-Serif\" font-size=\"14.00\">value = [0, 1]</text>\n</g>\n<!-- 9&#45;&gt;10 -->\n<g id=\"edge10\" class=\"edge\">\n<title>9&#45;&gt;10</title>\n<path fill=\"none\" stroke=\"black\" d=\"M138.83,-712.88C127.96,-701.34 115.78,-688.39 104.93,-676.86\"/>\n<polygon fill=\"black\" stroke=\"black\" points=\"107.42,-674.4 98.02,-669.52 102.32,-679.2 107.42,-674.4\"/>\n</g>\n<!-- 11 -->\n<g id=\"node12\" class=\"node\">\n<title>11</title>\n<polygon fill=\"none\" stroke=\"black\" points=\"251.5,-677 140.5,-677 140.5,-609 251.5,-609 251.5,-677\"/>\n<text text-anchor=\"middle\" x=\"196\" y=\"-661.8\" font-family=\"Helvetica,sans-Serif\" font-size=\"14.00\">X[3] &lt;= 53.5</text>\n<text text-anchor=\"middle\" x=\"196\" y=\"-646.8\" font-family=\"Helvetica,sans-Serif\" font-size=\"14.00\">entropy = 0.503</text>\n<text text-anchor=\"middle\" x=\"196\" y=\"-631.8\" font-family=\"Helvetica,sans-Serif\" font-size=\"14.00\">samples = 27</text>\n<text text-anchor=\"middle\" x=\"196\" y=\"-616.8\" font-family=\"Helvetica,sans-Serif\" font-size=\"14.00\">value = [24, 3]</text>\n</g>\n<!-- 9&#45;&gt;11 -->\n<g id=\"edge11\" class=\"edge\">\n<title>9&#45;&gt;11</title>\n<path fill=\"none\" stroke=\"black\" d=\"M178.44,-712.88C180.53,-704.69 182.8,-695.79 184.99,-687.19\"/>\n<polygon fill=\"black\" stroke=\"black\" points=\"188.43,-687.85 187.51,-677.3 181.65,-686.12 188.43,-687.85\"/>\n</g>\n<!-- 12 -->\n<g id=\"node13\" class=\"node\">\n<title>12</title>\n<polygon fill=\"none\" stroke=\"black\" points=\"162,-565.5 60,-565.5 60,-512.5 162,-512.5 162,-565.5\"/>\n<text text-anchor=\"middle\" x=\"111\" y=\"-550.3\" font-family=\"Helvetica,sans-Serif\" font-size=\"14.00\">entropy = 0.0</text>\n<text text-anchor=\"middle\" x=\"111\" y=\"-535.3\" font-family=\"Helvetica,sans-Serif\" font-size=\"14.00\">samples = 12</text>\n<text text-anchor=\"middle\" x=\"111\" y=\"-520.3\" font-family=\"Helvetica,sans-Serif\" font-size=\"14.00\">value = [12, 0]</text>\n</g>\n<!-- 11&#45;&gt;12 -->\n<g id=\"edge12\" class=\"edge\">\n<title>11&#45;&gt;12</title>\n<path fill=\"none\" stroke=\"black\" d=\"M168.4,-608.88C158.96,-597.56 148.4,-584.88 138.93,-573.52\"/>\n<polygon fill=\"black\" stroke=\"black\" points=\"141.36,-570.96 132.27,-565.52 135.98,-575.44 141.36,-570.96\"/>\n</g>\n<!-- 13 -->\n<g id=\"node14\" class=\"node\">\n<title>13</title>\n<polygon fill=\"none\" stroke=\"black\" points=\"291.5,-573 180.5,-573 180.5,-505 291.5,-505 291.5,-573\"/>\n<text text-anchor=\"middle\" x=\"236\" y=\"-557.8\" font-family=\"Helvetica,sans-Serif\" font-size=\"14.00\">X[3] &lt;= 59.5</text>\n<text text-anchor=\"middle\" x=\"236\" y=\"-542.8\" font-family=\"Helvetica,sans-Serif\" font-size=\"14.00\">entropy = 0.722</text>\n<text text-anchor=\"middle\" x=\"236\" y=\"-527.8\" font-family=\"Helvetica,sans-Serif\" font-size=\"14.00\">samples = 15</text>\n<text text-anchor=\"middle\" x=\"236\" y=\"-512.8\" font-family=\"Helvetica,sans-Serif\" font-size=\"14.00\">value = [12, 3]</text>\n</g>\n<!-- 11&#45;&gt;13 -->\n<g id=\"edge13\" class=\"edge\">\n<title>11&#45;&gt;13</title>\n<path fill=\"none\" stroke=\"black\" d=\"M208.99,-608.88C212.27,-600.51 215.84,-591.4 219.28,-582.63\"/>\n<polygon fill=\"black\" stroke=\"black\" points=\"222.55,-583.89 222.94,-573.3 216.03,-581.33 222.55,-583.89\"/>\n</g>\n<!-- 14 -->\n<g id=\"node15\" class=\"node\">\n<title>14</title>\n<polygon fill=\"none\" stroke=\"black\" points=\"262.5,-469 151.5,-469 151.5,-401 262.5,-401 262.5,-469\"/>\n<text text-anchor=\"middle\" x=\"207\" y=\"-453.8\" font-family=\"Helvetica,sans-Serif\" font-size=\"14.00\">X[0] &lt;= 42.5</text>\n<text text-anchor=\"middle\" x=\"207\" y=\"-438.8\" font-family=\"Helvetica,sans-Serif\" font-size=\"14.00\">entropy = 0.918</text>\n<text text-anchor=\"middle\" x=\"207\" y=\"-423.8\" font-family=\"Helvetica,sans-Serif\" font-size=\"14.00\">samples = 9</text>\n<text text-anchor=\"middle\" x=\"207\" y=\"-408.8\" font-family=\"Helvetica,sans-Serif\" font-size=\"14.00\">value = [6, 3]</text>\n</g>\n<!-- 13&#45;&gt;14 -->\n<g id=\"edge14\" class=\"edge\">\n<title>13&#45;&gt;14</title>\n<path fill=\"none\" stroke=\"black\" d=\"M226.58,-504.88C224.25,-496.69 221.72,-487.79 219.28,-479.19\"/>\n<polygon fill=\"black\" stroke=\"black\" points=\"222.57,-477.96 216.47,-469.3 215.84,-479.88 222.57,-477.96\"/>\n</g>\n<!-- 23 -->\n<g id=\"node24\" class=\"node\">\n<title>23</title>\n<polygon fill=\"none\" stroke=\"black\" points=\"377,-461.5 281,-461.5 281,-408.5 377,-408.5 377,-461.5\"/>\n<text text-anchor=\"middle\" x=\"329\" y=\"-446.3\" font-family=\"Helvetica,sans-Serif\" font-size=\"14.00\">entropy = 0.0</text>\n<text text-anchor=\"middle\" x=\"329\" y=\"-431.3\" font-family=\"Helvetica,sans-Serif\" font-size=\"14.00\">samples = 6</text>\n<text text-anchor=\"middle\" x=\"329\" y=\"-416.3\" font-family=\"Helvetica,sans-Serif\" font-size=\"14.00\">value = [6, 0]</text>\n</g>\n<!-- 13&#45;&gt;23 -->\n<g id=\"edge23\" class=\"edge\">\n<title>13&#45;&gt;23</title>\n<path fill=\"none\" stroke=\"black\" d=\"M266.19,-504.88C276.62,-493.45 288.3,-480.63 298.74,-469.19\"/>\n<polygon fill=\"black\" stroke=\"black\" points=\"301.58,-471.27 305.73,-461.52 296.41,-466.55 301.58,-471.27\"/>\n</g>\n<!-- 15 -->\n<g id=\"node16\" class=\"node\">\n<title>15</title>\n<polygon fill=\"none\" stroke=\"black\" points=\"198,-357.5 102,-357.5 102,-304.5 198,-304.5 198,-357.5\"/>\n<text text-anchor=\"middle\" x=\"150\" y=\"-342.3\" font-family=\"Helvetica,sans-Serif\" font-size=\"14.00\">entropy = 0.0</text>\n<text text-anchor=\"middle\" x=\"150\" y=\"-327.3\" font-family=\"Helvetica,sans-Serif\" font-size=\"14.00\">samples = 3</text>\n<text text-anchor=\"middle\" x=\"150\" y=\"-312.3\" font-family=\"Helvetica,sans-Serif\" font-size=\"14.00\">value = [3, 0]</text>\n</g>\n<!-- 14&#45;&gt;15 -->\n<g id=\"edge15\" class=\"edge\">\n<title>14&#45;&gt;15</title>\n<path fill=\"none\" stroke=\"black\" d=\"M188.49,-400.88C182.35,-389.89 175.49,-377.62 169.29,-366.52\"/>\n<polygon fill=\"black\" stroke=\"black\" points=\"172.19,-364.54 164.26,-357.52 166.08,-367.96 172.19,-364.54\"/>\n</g>\n<!-- 16 -->\n<g id=\"node17\" class=\"node\">\n<title>16</title>\n<polygon fill=\"none\" stroke=\"black\" points=\"314,-365 216,-365 216,-297 314,-297 314,-365\"/>\n<text text-anchor=\"middle\" x=\"265\" y=\"-349.8\" font-family=\"Helvetica,sans-Serif\" font-size=\"14.00\">X[0] &lt;= 240.0</text>\n<text text-anchor=\"middle\" x=\"265\" y=\"-334.8\" font-family=\"Helvetica,sans-Serif\" font-size=\"14.00\">entropy = 1.0</text>\n<text text-anchor=\"middle\" x=\"265\" y=\"-319.8\" font-family=\"Helvetica,sans-Serif\" font-size=\"14.00\">samples = 6</text>\n<text text-anchor=\"middle\" x=\"265\" y=\"-304.8\" font-family=\"Helvetica,sans-Serif\" font-size=\"14.00\">value = [3, 3]</text>\n</g>\n<!-- 14&#45;&gt;16 -->\n<g id=\"edge16\" class=\"edge\">\n<title>14&#45;&gt;16</title>\n<path fill=\"none\" stroke=\"black\" d=\"M225.83,-400.88C230.69,-392.33 235.99,-383.01 241.08,-374.07\"/>\n<polygon fill=\"black\" stroke=\"black\" points=\"244.16,-375.72 246.07,-365.3 238.08,-372.26 244.16,-375.72\"/>\n</g>\n<!-- 17 -->\n<g id=\"node18\" class=\"node\">\n<title>17</title>\n<polygon fill=\"none\" stroke=\"black\" points=\"259.5,-261 148.5,-261 148.5,-193 259.5,-193 259.5,-261\"/>\n<text text-anchor=\"middle\" x=\"204\" y=\"-245.8\" font-family=\"Helvetica,sans-Serif\" font-size=\"14.00\">X[3] &lt;= 55.0</text>\n<text text-anchor=\"middle\" x=\"204\" y=\"-230.8\" font-family=\"Helvetica,sans-Serif\" font-size=\"14.00\">entropy = 0.811</text>\n<text text-anchor=\"middle\" x=\"204\" y=\"-215.8\" font-family=\"Helvetica,sans-Serif\" font-size=\"14.00\">samples = 4</text>\n<text text-anchor=\"middle\" x=\"204\" y=\"-200.8\" font-family=\"Helvetica,sans-Serif\" font-size=\"14.00\">value = [1, 3]</text>\n</g>\n<!-- 16&#45;&gt;17 -->\n<g id=\"edge17\" class=\"edge\">\n<title>16&#45;&gt;17</title>\n<path fill=\"none\" stroke=\"black\" d=\"M245.2,-296.88C240.08,-288.33 234.51,-279.01 229.16,-270.07\"/>\n<polygon fill=\"black\" stroke=\"black\" points=\"232.05,-268.09 223.91,-261.3 226.04,-271.68 232.05,-268.09\"/>\n</g>\n<!-- 22 -->\n<g id=\"node23\" class=\"node\">\n<title>22</title>\n<polygon fill=\"none\" stroke=\"black\" points=\"374,-253.5 278,-253.5 278,-200.5 374,-200.5 374,-253.5\"/>\n<text text-anchor=\"middle\" x=\"326\" y=\"-238.3\" font-family=\"Helvetica,sans-Serif\" font-size=\"14.00\">entropy = 0.0</text>\n<text text-anchor=\"middle\" x=\"326\" y=\"-223.3\" font-family=\"Helvetica,sans-Serif\" font-size=\"14.00\">samples = 2</text>\n<text text-anchor=\"middle\" x=\"326\" y=\"-208.3\" font-family=\"Helvetica,sans-Serif\" font-size=\"14.00\">value = [2, 0]</text>\n</g>\n<!-- 16&#45;&gt;22 -->\n<g id=\"edge22\" class=\"edge\">\n<title>16&#45;&gt;22</title>\n<path fill=\"none\" stroke=\"black\" d=\"M284.8,-296.88C291.45,-285.78 298.87,-273.37 305.56,-262.18\"/>\n<polygon fill=\"black\" stroke=\"black\" points=\"308.61,-263.9 310.74,-253.52 302.6,-260.31 308.61,-263.9\"/>\n</g>\n<!-- 18 -->\n<g id=\"node19\" class=\"node\">\n<title>18</title>\n<polygon fill=\"none\" stroke=\"black\" points=\"195,-157 99,-157 99,-89 195,-89 195,-157\"/>\n<text text-anchor=\"middle\" x=\"147\" y=\"-141.8\" font-family=\"Helvetica,sans-Serif\" font-size=\"14.00\">X[2] &lt;= 22.5</text>\n<text text-anchor=\"middle\" x=\"147\" y=\"-126.8\" font-family=\"Helvetica,sans-Serif\" font-size=\"14.00\">entropy = 1.0</text>\n<text text-anchor=\"middle\" x=\"147\" y=\"-111.8\" font-family=\"Helvetica,sans-Serif\" font-size=\"14.00\">samples = 2</text>\n<text text-anchor=\"middle\" x=\"147\" y=\"-96.8\" font-family=\"Helvetica,sans-Serif\" font-size=\"14.00\">value = [1, 1]</text>\n</g>\n<!-- 17&#45;&gt;18 -->\n<g id=\"edge18\" class=\"edge\">\n<title>17&#45;&gt;18</title>\n<path fill=\"none\" stroke=\"black\" d=\"M185.49,-192.88C180.72,-184.33 175.51,-175.01 170.51,-166.07\"/>\n<polygon fill=\"black\" stroke=\"black\" points=\"173.54,-164.32 165.61,-157.3 167.43,-167.74 173.54,-164.32\"/>\n</g>\n<!-- 21 -->\n<g id=\"node22\" class=\"node\">\n<title>21</title>\n<polygon fill=\"none\" stroke=\"black\" points=\"309,-149.5 213,-149.5 213,-96.5 309,-96.5 309,-149.5\"/>\n<text text-anchor=\"middle\" x=\"261\" y=\"-134.3\" font-family=\"Helvetica,sans-Serif\" font-size=\"14.00\">entropy = 0.0</text>\n<text text-anchor=\"middle\" x=\"261\" y=\"-119.3\" font-family=\"Helvetica,sans-Serif\" font-size=\"14.00\">samples = 2</text>\n<text text-anchor=\"middle\" x=\"261\" y=\"-104.3\" font-family=\"Helvetica,sans-Serif\" font-size=\"14.00\">value = [0, 2]</text>\n</g>\n<!-- 17&#45;&gt;21 -->\n<g id=\"edge21\" class=\"edge\">\n<title>17&#45;&gt;21</title>\n<path fill=\"none\" stroke=\"black\" d=\"M222.51,-192.88C228.65,-181.89 235.51,-169.62 241.71,-158.52\"/>\n<polygon fill=\"black\" stroke=\"black\" points=\"244.92,-159.96 246.74,-149.52 238.81,-156.54 244.92,-159.96\"/>\n</g>\n<!-- 19 -->\n<g id=\"node20\" class=\"node\">\n<title>19</title>\n<polygon fill=\"none\" stroke=\"black\" points=\"138,-53 42,-53 42,0 138,0 138,-53\"/>\n<text text-anchor=\"middle\" x=\"90\" y=\"-37.8\" font-family=\"Helvetica,sans-Serif\" font-size=\"14.00\">entropy = 0.0</text>\n<text text-anchor=\"middle\" x=\"90\" y=\"-22.8\" font-family=\"Helvetica,sans-Serif\" font-size=\"14.00\">samples = 1</text>\n<text text-anchor=\"middle\" x=\"90\" y=\"-7.8\" font-family=\"Helvetica,sans-Serif\" font-size=\"14.00\">value = [1, 0]</text>\n</g>\n<!-- 18&#45;&gt;19 -->\n<g id=\"edge19\" class=\"edge\">\n<title>18&#45;&gt;19</title>\n<path fill=\"none\" stroke=\"black\" d=\"M127.06,-88.95C121.77,-80.17 116.03,-70.66 110.7,-61.82\"/>\n<polygon fill=\"black\" stroke=\"black\" points=\"113.69,-59.99 105.52,-53.24 107.69,-63.61 113.69,-59.99\"/>\n</g>\n<!-- 20 -->\n<g id=\"node21\" class=\"node\">\n<title>20</title>\n<polygon fill=\"none\" stroke=\"black\" points=\"252,-53 156,-53 156,0 252,0 252,-53\"/>\n<text text-anchor=\"middle\" x=\"204\" y=\"-37.8\" font-family=\"Helvetica,sans-Serif\" font-size=\"14.00\">entropy = 0.0</text>\n<text text-anchor=\"middle\" x=\"204\" y=\"-22.8\" font-family=\"Helvetica,sans-Serif\" font-size=\"14.00\">samples = 1</text>\n<text text-anchor=\"middle\" x=\"204\" y=\"-7.8\" font-family=\"Helvetica,sans-Serif\" font-size=\"14.00\">value = [0, 1]</text>\n</g>\n<!-- 18&#45;&gt;20 -->\n<g id=\"edge20\" class=\"edge\">\n<title>18&#45;&gt;20</title>\n<path fill=\"none\" stroke=\"black\" d=\"M166.94,-88.95C172.23,-80.17 177.97,-70.66 183.3,-61.82\"/>\n<polygon fill=\"black\" stroke=\"black\" points=\"186.31,-63.61 188.48,-53.24 180.31,-59.99 186.31,-63.61\"/>\n</g>\n<!-- 26 -->\n<g id=\"node27\" class=\"node\">\n<title>26</title>\n<polygon fill=\"none\" stroke=\"black\" points=\"484.5,-1093 373.5,-1093 373.5,-1025 484.5,-1025 484.5,-1093\"/>\n<text text-anchor=\"middle\" x=\"429\" y=\"-1077.8\" font-family=\"Helvetica,sans-Serif\" font-size=\"14.00\">X[3] &lt;= 84.5</text>\n<text text-anchor=\"middle\" x=\"429\" y=\"-1062.8\" font-family=\"Helvetica,sans-Serif\" font-size=\"14.00\">entropy = 0.779</text>\n<text text-anchor=\"middle\" x=\"429\" y=\"-1047.8\" font-family=\"Helvetica,sans-Serif\" font-size=\"14.00\">samples = 26</text>\n<text text-anchor=\"middle\" x=\"429\" y=\"-1032.8\" font-family=\"Helvetica,sans-Serif\" font-size=\"14.00\">value = [6, 20]</text>\n</g>\n<!-- 25&#45;&gt;26 -->\n<g id=\"edge26\" class=\"edge\">\n<title>25&#45;&gt;26</title>\n<path fill=\"none\" stroke=\"black\" d=\"M429,-1128.88C429,-1120.78 429,-1111.98 429,-1103.47\"/>\n<polygon fill=\"black\" stroke=\"black\" points=\"432.5,-1103.3 429,-1093.3 425.5,-1103.3 432.5,-1103.3\"/>\n</g>\n<!-- 39 -->\n<g id=\"node40\" class=\"node\">\n<title>39</title>\n<polygon fill=\"none\" stroke=\"black\" points=\"605,-1085.5 503,-1085.5 503,-1032.5 605,-1032.5 605,-1085.5\"/>\n<text text-anchor=\"middle\" x=\"554\" y=\"-1070.3\" font-family=\"Helvetica,sans-Serif\" font-size=\"14.00\">entropy = 0.0</text>\n<text text-anchor=\"middle\" x=\"554\" y=\"-1055.3\" font-family=\"Helvetica,sans-Serif\" font-size=\"14.00\">samples = 13</text>\n<text text-anchor=\"middle\" x=\"554\" y=\"-1040.3\" font-family=\"Helvetica,sans-Serif\" font-size=\"14.00\">value = [0, 13]</text>\n</g>\n<!-- 25&#45;&gt;39 -->\n<g id=\"edge39\" class=\"edge\">\n<title>25&#45;&gt;39</title>\n<path fill=\"none\" stroke=\"black\" d=\"M469.58,-1128.88C484.14,-1117.01 500.51,-1103.65 514.94,-1091.88\"/>\n<polygon fill=\"black\" stroke=\"black\" points=\"517.19,-1094.55 522.73,-1085.52 512.76,-1089.13 517.19,-1094.55\"/>\n</g>\n<!-- 27 -->\n<g id=\"node28\" class=\"node\">\n<title>27</title>\n<polygon fill=\"none\" stroke=\"black\" points=\"445,-981.5 349,-981.5 349,-928.5 445,-928.5 445,-981.5\"/>\n<text text-anchor=\"middle\" x=\"397\" y=\"-966.3\" font-family=\"Helvetica,sans-Serif\" font-size=\"14.00\">entropy = 0.0</text>\n<text text-anchor=\"middle\" x=\"397\" y=\"-951.3\" font-family=\"Helvetica,sans-Serif\" font-size=\"14.00\">samples = 8</text>\n<text text-anchor=\"middle\" x=\"397\" y=\"-936.3\" font-family=\"Helvetica,sans-Serif\" font-size=\"14.00\">value = [0, 8]</text>\n</g>\n<!-- 26&#45;&gt;27 -->\n<g id=\"edge27\" class=\"edge\">\n<title>26&#45;&gt;27</title>\n<path fill=\"none\" stroke=\"black\" d=\"M418.61,-1024.88C415.23,-1014.11 411.47,-1002.11 408.04,-991.18\"/>\n<polygon fill=\"black\" stroke=\"black\" points=\"411.34,-990.01 405.01,-981.52 404.66,-992.11 411.34,-990.01\"/>\n</g>\n<!-- 28 -->\n<g id=\"node29\" class=\"node\">\n<title>28</title>\n<polygon fill=\"none\" stroke=\"black\" points=\"574.5,-989 463.5,-989 463.5,-921 574.5,-921 574.5,-989\"/>\n<text text-anchor=\"middle\" x=\"519\" y=\"-973.8\" font-family=\"Helvetica,sans-Serif\" font-size=\"14.00\">X[0] &lt;= 70.5</text>\n<text text-anchor=\"middle\" x=\"519\" y=\"-958.8\" font-family=\"Helvetica,sans-Serif\" font-size=\"14.00\">entropy = 0.918</text>\n<text text-anchor=\"middle\" x=\"519\" y=\"-943.8\" font-family=\"Helvetica,sans-Serif\" font-size=\"14.00\">samples = 18</text>\n<text text-anchor=\"middle\" x=\"519\" y=\"-928.8\" font-family=\"Helvetica,sans-Serif\" font-size=\"14.00\">value = [6, 12]</text>\n</g>\n<!-- 26&#45;&gt;28 -->\n<g id=\"edge28\" class=\"edge\">\n<title>26&#45;&gt;28</title>\n<path fill=\"none\" stroke=\"black\" d=\"M458.22,-1024.88C466.08,-1015.98 474.67,-1006.24 482.86,-996.96\"/>\n<polygon fill=\"black\" stroke=\"black\" points=\"485.63,-999.11 489.62,-989.3 480.38,-994.48 485.63,-999.11\"/>\n</g>\n<!-- 29 -->\n<g id=\"node30\" class=\"node\">\n<title>29</title>\n<polygon fill=\"none\" stroke=\"black\" points=\"445,-877.5 349,-877.5 349,-824.5 445,-824.5 445,-877.5\"/>\n<text text-anchor=\"middle\" x=\"397\" y=\"-862.3\" font-family=\"Helvetica,sans-Serif\" font-size=\"14.00\">entropy = 0.0</text>\n<text text-anchor=\"middle\" x=\"397\" y=\"-847.3\" font-family=\"Helvetica,sans-Serif\" font-size=\"14.00\">samples = 4</text>\n<text text-anchor=\"middle\" x=\"397\" y=\"-832.3\" font-family=\"Helvetica,sans-Serif\" font-size=\"14.00\">value = [0, 4]</text>\n</g>\n<!-- 28&#45;&gt;29 -->\n<g id=\"edge29\" class=\"edge\">\n<title>28&#45;&gt;29</title>\n<path fill=\"none\" stroke=\"black\" d=\"M479.39,-920.88C465.31,-909.12 449.5,-895.89 435.52,-884.2\"/>\n<polygon fill=\"black\" stroke=\"black\" points=\"437.44,-881.25 427.52,-877.52 432.95,-886.62 437.44,-881.25\"/>\n</g>\n<!-- 30 -->\n<g id=\"node31\" class=\"node\">\n<title>30</title>\n<polygon fill=\"none\" stroke=\"black\" points=\"574.5,-885 463.5,-885 463.5,-817 574.5,-817 574.5,-885\"/>\n<text text-anchor=\"middle\" x=\"519\" y=\"-869.8\" font-family=\"Helvetica,sans-Serif\" font-size=\"14.00\">X[0] &lt;= 369.5</text>\n<text text-anchor=\"middle\" x=\"519\" y=\"-854.8\" font-family=\"Helvetica,sans-Serif\" font-size=\"14.00\">entropy = 0.985</text>\n<text text-anchor=\"middle\" x=\"519\" y=\"-839.8\" font-family=\"Helvetica,sans-Serif\" font-size=\"14.00\">samples = 14</text>\n<text text-anchor=\"middle\" x=\"519\" y=\"-824.8\" font-family=\"Helvetica,sans-Serif\" font-size=\"14.00\">value = [6, 8]</text>\n</g>\n<!-- 28&#45;&gt;30 -->\n<g id=\"edge30\" class=\"edge\">\n<title>28&#45;&gt;30</title>\n<path fill=\"none\" stroke=\"black\" d=\"M519,-920.88C519,-912.78 519,-903.98 519,-895.47\"/>\n<polygon fill=\"black\" stroke=\"black\" points=\"522.5,-895.3 519,-885.3 515.5,-895.3 522.5,-895.3\"/>\n</g>\n<!-- 31 -->\n<g id=\"node32\" class=\"node\">\n<title>31</title>\n<polygon fill=\"none\" stroke=\"black\" points=\"453.5,-781 342.5,-781 342.5,-713 453.5,-713 453.5,-781\"/>\n<text text-anchor=\"middle\" x=\"398\" y=\"-765.8\" font-family=\"Helvetica,sans-Serif\" font-size=\"14.00\">X[0] &lt;= 264.5</text>\n<text text-anchor=\"middle\" x=\"398\" y=\"-750.8\" font-family=\"Helvetica,sans-Serif\" font-size=\"14.00\">entropy = 0.971</text>\n<text text-anchor=\"middle\" x=\"398\" y=\"-735.8\" font-family=\"Helvetica,sans-Serif\" font-size=\"14.00\">samples = 10</text>\n<text text-anchor=\"middle\" x=\"398\" y=\"-720.8\" font-family=\"Helvetica,sans-Serif\" font-size=\"14.00\">value = [6, 4]</text>\n</g>\n<!-- 30&#45;&gt;31 -->\n<g id=\"edge31\" class=\"edge\">\n<title>30&#45;&gt;31</title>\n<path fill=\"none\" stroke=\"black\" d=\"M479.71,-816.88C468.73,-807.62 456.67,-797.45 445.27,-787.85\"/>\n<polygon fill=\"black\" stroke=\"black\" points=\"447.4,-785.07 437.5,-781.3 442.89,-790.42 447.4,-785.07\"/>\n</g>\n<!-- 38 -->\n<g id=\"node39\" class=\"node\">\n<title>38</title>\n<polygon fill=\"none\" stroke=\"black\" points=\"568,-773.5 472,-773.5 472,-720.5 568,-720.5 568,-773.5\"/>\n<text text-anchor=\"middle\" x=\"520\" y=\"-758.3\" font-family=\"Helvetica,sans-Serif\" font-size=\"14.00\">entropy = 0.0</text>\n<text text-anchor=\"middle\" x=\"520\" y=\"-743.3\" font-family=\"Helvetica,sans-Serif\" font-size=\"14.00\">samples = 4</text>\n<text text-anchor=\"middle\" x=\"520\" y=\"-728.3\" font-family=\"Helvetica,sans-Serif\" font-size=\"14.00\">value = [0, 4]</text>\n</g>\n<!-- 30&#45;&gt;38 -->\n<g id=\"edge38\" class=\"edge\">\n<title>30&#45;&gt;38</title>\n<path fill=\"none\" stroke=\"black\" d=\"M519.32,-816.88C519.43,-806.33 519.54,-794.6 519.65,-783.85\"/>\n<polygon fill=\"black\" stroke=\"black\" points=\"523.15,-783.55 519.75,-773.52 516.15,-783.49 523.15,-783.55\"/>\n</g>\n<!-- 32 -->\n<g id=\"node33\" class=\"node\">\n<title>32</title>\n<polygon fill=\"none\" stroke=\"black\" points=\"440.5,-677 329.5,-677 329.5,-609 440.5,-609 440.5,-677\"/>\n<text text-anchor=\"middle\" x=\"385\" y=\"-661.8\" font-family=\"Helvetica,sans-Serif\" font-size=\"14.00\">X[0] &lt;= 119.0</text>\n<text text-anchor=\"middle\" x=\"385\" y=\"-646.8\" font-family=\"Helvetica,sans-Serif\" font-size=\"14.00\">entropy = 0.985</text>\n<text text-anchor=\"middle\" x=\"385\" y=\"-631.8\" font-family=\"Helvetica,sans-Serif\" font-size=\"14.00\">samples = 7</text>\n<text text-anchor=\"middle\" x=\"385\" y=\"-616.8\" font-family=\"Helvetica,sans-Serif\" font-size=\"14.00\">value = [3, 4]</text>\n</g>\n<!-- 31&#45;&gt;32 -->\n<g id=\"edge32\" class=\"edge\">\n<title>31&#45;&gt;32</title>\n<path fill=\"none\" stroke=\"black\" d=\"M393.78,-712.88C392.75,-704.78 391.63,-695.98 390.54,-687.47\"/>\n<polygon fill=\"black\" stroke=\"black\" points=\"393.98,-686.78 389.24,-677.3 387.04,-687.66 393.98,-686.78\"/>\n</g>\n<!-- 37 -->\n<g id=\"node38\" class=\"node\">\n<title>37</title>\n<polygon fill=\"none\" stroke=\"black\" points=\"555,-669.5 459,-669.5 459,-616.5 555,-616.5 555,-669.5\"/>\n<text text-anchor=\"middle\" x=\"507\" y=\"-654.3\" font-family=\"Helvetica,sans-Serif\" font-size=\"14.00\">entropy = 0.0</text>\n<text text-anchor=\"middle\" x=\"507\" y=\"-639.3\" font-family=\"Helvetica,sans-Serif\" font-size=\"14.00\">samples = 3</text>\n<text text-anchor=\"middle\" x=\"507\" y=\"-624.3\" font-family=\"Helvetica,sans-Serif\" font-size=\"14.00\">value = [3, 0]</text>\n</g>\n<!-- 31&#45;&gt;37 -->\n<g id=\"edge37\" class=\"edge\">\n<title>31&#45;&gt;37</title>\n<path fill=\"none\" stroke=\"black\" d=\"M433.39,-712.88C445.85,-701.23 459.83,-688.14 472.24,-676.53\"/>\n<polygon fill=\"black\" stroke=\"black\" points=\"474.82,-678.91 479.73,-669.52 470.04,-673.8 474.82,-678.91\"/>\n</g>\n<!-- 33 -->\n<g id=\"node34\" class=\"node\">\n<title>33</title>\n<polygon fill=\"none\" stroke=\"black\" points=\"409,-565.5 313,-565.5 313,-512.5 409,-512.5 409,-565.5\"/>\n<text text-anchor=\"middle\" x=\"361\" y=\"-550.3\" font-family=\"Helvetica,sans-Serif\" font-size=\"14.00\">entropy = 0.0</text>\n<text text-anchor=\"middle\" x=\"361\" y=\"-535.3\" font-family=\"Helvetica,sans-Serif\" font-size=\"14.00\">samples = 2</text>\n<text text-anchor=\"middle\" x=\"361\" y=\"-520.3\" font-family=\"Helvetica,sans-Serif\" font-size=\"14.00\">value = [2, 0]</text>\n</g>\n<!-- 32&#45;&gt;33 -->\n<g id=\"edge33\" class=\"edge\">\n<title>32&#45;&gt;33</title>\n<path fill=\"none\" stroke=\"black\" d=\"M377.21,-608.88C374.7,-598.22 371.91,-586.35 369.36,-575.52\"/>\n<polygon fill=\"black\" stroke=\"black\" points=\"372.7,-574.45 367,-565.52 365.89,-576.06 372.7,-574.45\"/>\n</g>\n<!-- 34 -->\n<g id=\"node35\" class=\"node\">\n<title>34</title>\n<polygon fill=\"none\" stroke=\"black\" points=\"538.5,-573 427.5,-573 427.5,-505 538.5,-505 538.5,-573\"/>\n<text text-anchor=\"middle\" x=\"483\" y=\"-557.8\" font-family=\"Helvetica,sans-Serif\" font-size=\"14.00\">X[2] &lt;= 23.0</text>\n<text text-anchor=\"middle\" x=\"483\" y=\"-542.8\" font-family=\"Helvetica,sans-Serif\" font-size=\"14.00\">entropy = 0.722</text>\n<text text-anchor=\"middle\" x=\"483\" y=\"-527.8\" font-family=\"Helvetica,sans-Serif\" font-size=\"14.00\">samples = 5</text>\n<text text-anchor=\"middle\" x=\"483\" y=\"-512.8\" font-family=\"Helvetica,sans-Serif\" font-size=\"14.00\">value = [1, 4]</text>\n</g>\n<!-- 32&#45;&gt;34 -->\n<g id=\"edge34\" class=\"edge\">\n<title>32&#45;&gt;34</title>\n<path fill=\"none\" stroke=\"black\" d=\"M416.82,-608.88C425.46,-599.89 434.92,-590.04 443.92,-580.68\"/>\n<polygon fill=\"black\" stroke=\"black\" points=\"446.6,-582.94 451.01,-573.3 441.55,-578.09 446.6,-582.94\"/>\n</g>\n<!-- 35 -->\n<g id=\"node36\" class=\"node\">\n<title>35</title>\n<polygon fill=\"none\" stroke=\"black\" points=\"503,-461.5 407,-461.5 407,-408.5 503,-408.5 503,-461.5\"/>\n<text text-anchor=\"middle\" x=\"455\" y=\"-446.3\" font-family=\"Helvetica,sans-Serif\" font-size=\"14.00\">entropy = 0.0</text>\n<text text-anchor=\"middle\" x=\"455\" y=\"-431.3\" font-family=\"Helvetica,sans-Serif\" font-size=\"14.00\">samples = 4</text>\n<text text-anchor=\"middle\" x=\"455\" y=\"-416.3\" font-family=\"Helvetica,sans-Serif\" font-size=\"14.00\">value = [0, 4]</text>\n</g>\n<!-- 34&#45;&gt;35 -->\n<g id=\"edge35\" class=\"edge\">\n<title>34&#45;&gt;35</title>\n<path fill=\"none\" stroke=\"black\" d=\"M473.91,-504.88C470.95,-494.11 467.66,-482.11 464.66,-471.18\"/>\n<polygon fill=\"black\" stroke=\"black\" points=\"468.03,-470.24 462.01,-461.52 461.28,-472.09 468.03,-470.24\"/>\n</g>\n<!-- 36 -->\n<g id=\"node37\" class=\"node\">\n<title>36</title>\n<polygon fill=\"none\" stroke=\"black\" points=\"617,-461.5 521,-461.5 521,-408.5 617,-408.5 617,-461.5\"/>\n<text text-anchor=\"middle\" x=\"569\" y=\"-446.3\" font-family=\"Helvetica,sans-Serif\" font-size=\"14.00\">entropy = 0.0</text>\n<text text-anchor=\"middle\" x=\"569\" y=\"-431.3\" font-family=\"Helvetica,sans-Serif\" font-size=\"14.00\">samples = 1</text>\n<text text-anchor=\"middle\" x=\"569\" y=\"-416.3\" font-family=\"Helvetica,sans-Serif\" font-size=\"14.00\">value = [1, 0]</text>\n</g>\n<!-- 34&#45;&gt;36 -->\n<g id=\"edge36\" class=\"edge\">\n<title>34&#45;&gt;36</title>\n<path fill=\"none\" stroke=\"black\" d=\"M510.92,-504.88C520.57,-493.45 531.37,-480.63 541.02,-469.19\"/>\n<polygon fill=\"black\" stroke=\"black\" points=\"543.71,-471.42 547.48,-461.52 538.36,-466.91 543.71,-471.42\"/>\n</g>\n<!-- 41 -->\n<g id=\"node42\" class=\"node\">\n<title>41</title>\n<polygon fill=\"none\" stroke=\"black\" points=\"822.5,-1197 711.5,-1197 711.5,-1129 822.5,-1129 822.5,-1197\"/>\n<text text-anchor=\"middle\" x=\"767\" y=\"-1181.8\" font-family=\"Helvetica,sans-Serif\" font-size=\"14.00\">X[3] &lt;= 7.5</text>\n<text text-anchor=\"middle\" x=\"767\" y=\"-1166.8\" font-family=\"Helvetica,sans-Serif\" font-size=\"14.00\">entropy = 0.211</text>\n<text text-anchor=\"middle\" x=\"767\" y=\"-1151.8\" font-family=\"Helvetica,sans-Serif\" font-size=\"14.00\">samples = 30</text>\n<text text-anchor=\"middle\" x=\"767\" y=\"-1136.8\" font-family=\"Helvetica,sans-Serif\" font-size=\"14.00\">value = [1, 29]</text>\n</g>\n<!-- 40&#45;&gt;41 -->\n<g id=\"edge41\" class=\"edge\">\n<title>40&#45;&gt;41</title>\n<path fill=\"none\" stroke=\"black\" d=\"M767,-1232.88C767,-1224.78 767,-1215.98 767,-1207.47\"/>\n<polygon fill=\"black\" stroke=\"black\" points=\"770.5,-1207.3 767,-1197.3 763.5,-1207.3 770.5,-1207.3\"/>\n</g>\n<!-- 46 -->\n<g id=\"node47\" class=\"node\">\n<title>46</title>\n<polygon fill=\"none\" stroke=\"black\" points=\"1035.5,-1197 924.5,-1197 924.5,-1129 1035.5,-1129 1035.5,-1197\"/>\n<text text-anchor=\"middle\" x=\"980\" y=\"-1181.8\" font-family=\"Helvetica,sans-Serif\" font-size=\"14.00\">X[2] &lt;= 34.5</text>\n<text text-anchor=\"middle\" x=\"980\" y=\"-1166.8\" font-family=\"Helvetica,sans-Serif\" font-size=\"14.00\">entropy = 0.789</text>\n<text text-anchor=\"middle\" x=\"980\" y=\"-1151.8\" font-family=\"Helvetica,sans-Serif\" font-size=\"14.00\">samples = 55</text>\n<text text-anchor=\"middle\" x=\"980\" y=\"-1136.8\" font-family=\"Helvetica,sans-Serif\" font-size=\"14.00\">value = [13, 42]</text>\n</g>\n<!-- 40&#45;&gt;46 -->\n<g id=\"edge46\" class=\"edge\">\n<title>40&#45;&gt;46</title>\n<path fill=\"none\" stroke=\"black\" d=\"M822.69,-1239.33C850.94,-1225.81 885.42,-1209.29 914.89,-1195.18\"/>\n<polygon fill=\"black\" stroke=\"black\" points=\"916.76,-1198.16 924.27,-1190.69 913.74,-1191.85 916.76,-1198.16\"/>\n</g>\n<!-- 42 -->\n<g id=\"node43\" class=\"node\">\n<title>42</title>\n<polygon fill=\"none\" stroke=\"black\" points=\"760.5,-1093 649.5,-1093 649.5,-1025 760.5,-1025 760.5,-1093\"/>\n<text text-anchor=\"middle\" x=\"705\" y=\"-1077.8\" font-family=\"Helvetica,sans-Serif\" font-size=\"14.00\">X[0] &lt;= 174.5</text>\n<text text-anchor=\"middle\" x=\"705\" y=\"-1062.8\" font-family=\"Helvetica,sans-Serif\" font-size=\"14.00\">entropy = 0.722</text>\n<text text-anchor=\"middle\" x=\"705\" y=\"-1047.8\" font-family=\"Helvetica,sans-Serif\" font-size=\"14.00\">samples = 5</text>\n<text text-anchor=\"middle\" x=\"705\" y=\"-1032.8\" font-family=\"Helvetica,sans-Serif\" font-size=\"14.00\">value = [1, 4]</text>\n</g>\n<!-- 41&#45;&gt;42 -->\n<g id=\"edge42\" class=\"edge\">\n<title>41&#45;&gt;42</title>\n<path fill=\"none\" stroke=\"black\" d=\"M746.87,-1128.88C741.67,-1120.33 736.01,-1111.01 730.57,-1102.07\"/>\n<polygon fill=\"black\" stroke=\"black\" points=\"733.43,-1100.03 725.24,-1093.3 727.44,-1103.66 733.43,-1100.03\"/>\n</g>\n<!-- 45 -->\n<g id=\"node46\" class=\"node\">\n<title>45</title>\n<polygon fill=\"none\" stroke=\"black\" points=\"881,-1085.5 779,-1085.5 779,-1032.5 881,-1032.5 881,-1085.5\"/>\n<text text-anchor=\"middle\" x=\"830\" y=\"-1070.3\" font-family=\"Helvetica,sans-Serif\" font-size=\"14.00\">entropy = 0.0</text>\n<text text-anchor=\"middle\" x=\"830\" y=\"-1055.3\" font-family=\"Helvetica,sans-Serif\" font-size=\"14.00\">samples = 25</text>\n<text text-anchor=\"middle\" x=\"830\" y=\"-1040.3\" font-family=\"Helvetica,sans-Serif\" font-size=\"14.00\">value = [0, 25]</text>\n</g>\n<!-- 41&#45;&gt;45 -->\n<g id=\"edge45\" class=\"edge\">\n<title>41&#45;&gt;45</title>\n<path fill=\"none\" stroke=\"black\" d=\"M787.45,-1128.88C794.32,-1117.78 801.98,-1105.37 808.89,-1094.18\"/>\n<polygon fill=\"black\" stroke=\"black\" points=\"811.96,-1095.87 814.24,-1085.52 806,-1092.19 811.96,-1095.87\"/>\n</g>\n<!-- 43 -->\n<g id=\"node44\" class=\"node\">\n<title>43</title>\n<polygon fill=\"none\" stroke=\"black\" points=\"689,-981.5 593,-981.5 593,-928.5 689,-928.5 689,-981.5\"/>\n<text text-anchor=\"middle\" x=\"641\" y=\"-966.3\" font-family=\"Helvetica,sans-Serif\" font-size=\"14.00\">entropy = 0.0</text>\n<text text-anchor=\"middle\" x=\"641\" y=\"-951.3\" font-family=\"Helvetica,sans-Serif\" font-size=\"14.00\">samples = 4</text>\n<text text-anchor=\"middle\" x=\"641\" y=\"-936.3\" font-family=\"Helvetica,sans-Serif\" font-size=\"14.00\">value = [0, 4]</text>\n</g>\n<!-- 42&#45;&gt;43 -->\n<g id=\"edge43\" class=\"edge\">\n<title>42&#45;&gt;43</title>\n<path fill=\"none\" stroke=\"black\" d=\"M684.22,-1024.88C677.25,-1013.78 669.47,-1001.37 662.45,-990.18\"/>\n<polygon fill=\"black\" stroke=\"black\" points=\"665.29,-988.13 657.01,-981.52 659.36,-991.85 665.29,-988.13\"/>\n</g>\n<!-- 44 -->\n<g id=\"node45\" class=\"node\">\n<title>44</title>\n<polygon fill=\"none\" stroke=\"black\" points=\"803,-981.5 707,-981.5 707,-928.5 803,-928.5 803,-981.5\"/>\n<text text-anchor=\"middle\" x=\"755\" y=\"-966.3\" font-family=\"Helvetica,sans-Serif\" font-size=\"14.00\">entropy = 0.0</text>\n<text text-anchor=\"middle\" x=\"755\" y=\"-951.3\" font-family=\"Helvetica,sans-Serif\" font-size=\"14.00\">samples = 1</text>\n<text text-anchor=\"middle\" x=\"755\" y=\"-936.3\" font-family=\"Helvetica,sans-Serif\" font-size=\"14.00\">value = [1, 0]</text>\n</g>\n<!-- 42&#45;&gt;44 -->\n<g id=\"edge44\" class=\"edge\">\n<title>42&#45;&gt;44</title>\n<path fill=\"none\" stroke=\"black\" d=\"M721.23,-1024.88C726.62,-1013.89 732.64,-1001.62 738.08,-990.52\"/>\n<polygon fill=\"black\" stroke=\"black\" points=\"741.23,-992.04 742.49,-981.52 734.95,-988.96 741.23,-992.04\"/>\n</g>\n<!-- 47 -->\n<g id=\"node48\" class=\"node\">\n<title>47</title>\n<polygon fill=\"none\" stroke=\"black\" points=\"1035.5,-1093 924.5,-1093 924.5,-1025 1035.5,-1025 1035.5,-1093\"/>\n<text text-anchor=\"middle\" x=\"980\" y=\"-1077.8\" font-family=\"Helvetica,sans-Serif\" font-size=\"14.00\">X[3] &lt;= 66.0</text>\n<text text-anchor=\"middle\" x=\"980\" y=\"-1062.8\" font-family=\"Helvetica,sans-Serif\" font-size=\"14.00\">entropy = 0.946</text>\n<text text-anchor=\"middle\" x=\"980\" y=\"-1047.8\" font-family=\"Helvetica,sans-Serif\" font-size=\"14.00\">samples = 33</text>\n<text text-anchor=\"middle\" x=\"980\" y=\"-1032.8\" font-family=\"Helvetica,sans-Serif\" font-size=\"14.00\">value = [12, 21]</text>\n</g>\n<!-- 46&#45;&gt;47 -->\n<g id=\"edge47\" class=\"edge\">\n<title>46&#45;&gt;47</title>\n<path fill=\"none\" stroke=\"black\" d=\"M980,-1128.88C980,-1120.78 980,-1111.98 980,-1103.47\"/>\n<polygon fill=\"black\" stroke=\"black\" points=\"983.5,-1103.3 980,-1093.3 976.5,-1103.3 983.5,-1103.3\"/>\n</g>\n<!-- 72 -->\n<g id=\"node73\" class=\"node\">\n<title>72</title>\n<polygon fill=\"none\" stroke=\"black\" points=\"1290.5,-1093 1179.5,-1093 1179.5,-1025 1290.5,-1025 1290.5,-1093\"/>\n<text text-anchor=\"middle\" x=\"1235\" y=\"-1077.8\" font-family=\"Helvetica,sans-Serif\" font-size=\"14.00\">X[3] &lt;= 27.0</text>\n<text text-anchor=\"middle\" x=\"1235\" y=\"-1062.8\" font-family=\"Helvetica,sans-Serif\" font-size=\"14.00\">entropy = 0.267</text>\n<text text-anchor=\"middle\" x=\"1235\" y=\"-1047.8\" font-family=\"Helvetica,sans-Serif\" font-size=\"14.00\">samples = 22</text>\n<text text-anchor=\"middle\" x=\"1235\" y=\"-1032.8\" font-family=\"Helvetica,sans-Serif\" font-size=\"14.00\">value = [1, 21]</text>\n</g>\n<!-- 46&#45;&gt;72 -->\n<g id=\"edge72\" class=\"edge\">\n<title>46&#45;&gt;72</title>\n<path fill=\"none\" stroke=\"black\" d=\"M1035.65,-1139.74C1075.21,-1123.92 1128.48,-1102.61 1170,-1086\"/>\n<polygon fill=\"black\" stroke=\"black\" points=\"1171.49,-1089.17 1179.47,-1082.21 1168.89,-1082.68 1171.49,-1089.17\"/>\n</g>\n<!-- 48 -->\n<g id=\"node49\" class=\"node\">\n<title>48</title>\n<polygon fill=\"none\" stroke=\"black\" points=\"932.5,-989 821.5,-989 821.5,-921 932.5,-921 932.5,-989\"/>\n<text text-anchor=\"middle\" x=\"877\" y=\"-973.8\" font-family=\"Helvetica,sans-Serif\" font-size=\"14.00\">X[2] &lt;= 30.5</text>\n<text text-anchor=\"middle\" x=\"877\" y=\"-958.8\" font-family=\"Helvetica,sans-Serif\" font-size=\"14.00\">entropy = 0.985</text>\n<text text-anchor=\"middle\" x=\"877\" y=\"-943.8\" font-family=\"Helvetica,sans-Serif\" font-size=\"14.00\">samples = 14</text>\n<text text-anchor=\"middle\" x=\"877\" y=\"-928.8\" font-family=\"Helvetica,sans-Serif\" font-size=\"14.00\">value = [8, 6]</text>\n</g>\n<!-- 47&#45;&gt;48 -->\n<g id=\"edge48\" class=\"edge\">\n<title>47&#45;&gt;48</title>\n<path fill=\"none\" stroke=\"black\" d=\"M946.56,-1024.88C937.38,-1015.8 927.33,-1005.85 917.8,-996.4\"/>\n<polygon fill=\"black\" stroke=\"black\" points=\"920.19,-993.85 910.63,-989.3 915.27,-998.82 920.19,-993.85\"/>\n</g>\n<!-- 63 -->\n<g id=\"node64\" class=\"node\">\n<title>63</title>\n<polygon fill=\"none\" stroke=\"black\" points=\"1061.5,-989 950.5,-989 950.5,-921 1061.5,-921 1061.5,-989\"/>\n<text text-anchor=\"middle\" x=\"1006\" y=\"-973.8\" font-family=\"Helvetica,sans-Serif\" font-size=\"14.00\">X[0] &lt;= 153.5</text>\n<text text-anchor=\"middle\" x=\"1006\" y=\"-958.8\" font-family=\"Helvetica,sans-Serif\" font-size=\"14.00\">entropy = 0.742</text>\n<text text-anchor=\"middle\" x=\"1006\" y=\"-943.8\" font-family=\"Helvetica,sans-Serif\" font-size=\"14.00\">samples = 19</text>\n<text text-anchor=\"middle\" x=\"1006\" y=\"-928.8\" font-family=\"Helvetica,sans-Serif\" font-size=\"14.00\">value = [4, 15]</text>\n</g>\n<!-- 47&#45;&gt;63 -->\n<g id=\"edge63\" class=\"edge\">\n<title>47&#45;&gt;63</title>\n<path fill=\"none\" stroke=\"black\" d=\"M988.44,-1024.88C990.53,-1016.69 992.8,-1007.79 994.99,-999.19\"/>\n<polygon fill=\"black\" stroke=\"black\" points=\"998.43,-999.85 997.51,-989.3 991.65,-998.12 998.43,-999.85\"/>\n</g>\n<!-- 49 -->\n<g id=\"node50\" class=\"node\">\n<title>49</title>\n<polygon fill=\"none\" stroke=\"black\" points=\"810.5,-885 699.5,-885 699.5,-817 810.5,-817 810.5,-885\"/>\n<text text-anchor=\"middle\" x=\"755\" y=\"-869.8\" font-family=\"Helvetica,sans-Serif\" font-size=\"14.00\">X[0] &lt;= 94.5</text>\n<text text-anchor=\"middle\" x=\"755\" y=\"-854.8\" font-family=\"Helvetica,sans-Serif\" font-size=\"14.00\">entropy = 0.994</text>\n<text text-anchor=\"middle\" x=\"755\" y=\"-839.8\" font-family=\"Helvetica,sans-Serif\" font-size=\"14.00\">samples = 11</text>\n<text text-anchor=\"middle\" x=\"755\" y=\"-824.8\" font-family=\"Helvetica,sans-Serif\" font-size=\"14.00\">value = [5, 6]</text>\n</g>\n<!-- 48&#45;&gt;49 -->\n<g id=\"edge49\" class=\"edge\">\n<title>48&#45;&gt;49</title>\n<path fill=\"none\" stroke=\"black\" d=\"M837.39,-920.88C826.31,-911.62 814.15,-901.45 802.66,-891.85\"/>\n<polygon fill=\"black\" stroke=\"black\" points=\"804.75,-889.03 794.83,-885.3 800.26,-894.4 804.75,-889.03\"/>\n</g>\n<!-- 62 -->\n<g id=\"node63\" class=\"node\">\n<title>62</title>\n<polygon fill=\"none\" stroke=\"black\" points=\"925,-877.5 829,-877.5 829,-824.5 925,-824.5 925,-877.5\"/>\n<text text-anchor=\"middle\" x=\"877\" y=\"-862.3\" font-family=\"Helvetica,sans-Serif\" font-size=\"14.00\">entropy = 0.0</text>\n<text text-anchor=\"middle\" x=\"877\" y=\"-847.3\" font-family=\"Helvetica,sans-Serif\" font-size=\"14.00\">samples = 3</text>\n<text text-anchor=\"middle\" x=\"877\" y=\"-832.3\" font-family=\"Helvetica,sans-Serif\" font-size=\"14.00\">value = [3, 0]</text>\n</g>\n<!-- 48&#45;&gt;62 -->\n<g id=\"edge62\" class=\"edge\">\n<title>48&#45;&gt;62</title>\n<path fill=\"none\" stroke=\"black\" d=\"M877,-920.88C877,-910.33 877,-898.6 877,-887.85\"/>\n<polygon fill=\"black\" stroke=\"black\" points=\"880.5,-887.52 877,-877.52 873.5,-887.52 880.5,-887.52\"/>\n</g>\n<!-- 50 -->\n<g id=\"node51\" class=\"node\">\n<title>50</title>\n<polygon fill=\"none\" stroke=\"black\" points=\"684,-773.5 588,-773.5 588,-720.5 684,-720.5 684,-773.5\"/>\n<text text-anchor=\"middle\" x=\"636\" y=\"-758.3\" font-family=\"Helvetica,sans-Serif\" font-size=\"14.00\">entropy = 0.0</text>\n<text text-anchor=\"middle\" x=\"636\" y=\"-743.3\" font-family=\"Helvetica,sans-Serif\" font-size=\"14.00\">samples = 2</text>\n<text text-anchor=\"middle\" x=\"636\" y=\"-728.3\" font-family=\"Helvetica,sans-Serif\" font-size=\"14.00\">value = [2, 0]</text>\n</g>\n<!-- 49&#45;&gt;50 -->\n<g id=\"edge50\" class=\"edge\">\n<title>49&#45;&gt;50</title>\n<path fill=\"none\" stroke=\"black\" d=\"M716.36,-816.88C702.64,-805.12 687.21,-791.89 673.57,-780.2\"/>\n<polygon fill=\"black\" stroke=\"black\" points=\"675.64,-777.37 665.77,-773.52 671.09,-782.69 675.64,-777.37\"/>\n</g>\n<!-- 51 -->\n<g id=\"node52\" class=\"node\">\n<title>51</title>\n<polygon fill=\"none\" stroke=\"black\" points=\"813.5,-781 702.5,-781 702.5,-713 813.5,-713 813.5,-781\"/>\n<text text-anchor=\"middle\" x=\"758\" y=\"-765.8\" font-family=\"Helvetica,sans-Serif\" font-size=\"14.00\">X[0] &lt;= 341.0</text>\n<text text-anchor=\"middle\" x=\"758\" y=\"-750.8\" font-family=\"Helvetica,sans-Serif\" font-size=\"14.00\">entropy = 0.918</text>\n<text text-anchor=\"middle\" x=\"758\" y=\"-735.8\" font-family=\"Helvetica,sans-Serif\" font-size=\"14.00\">samples = 9</text>\n<text text-anchor=\"middle\" x=\"758\" y=\"-720.8\" font-family=\"Helvetica,sans-Serif\" font-size=\"14.00\">value = [3, 6]</text>\n</g>\n<!-- 49&#45;&gt;51 -->\n<g id=\"edge51\" class=\"edge\">\n<title>49&#45;&gt;51</title>\n<path fill=\"none\" stroke=\"black\" d=\"M755.97,-816.88C756.21,-808.78 756.47,-799.98 756.72,-791.47\"/>\n<polygon fill=\"black\" stroke=\"black\" points=\"760.23,-791.4 757.02,-781.3 753.23,-791.19 760.23,-791.4\"/>\n</g>\n<!-- 52 -->\n<g id=\"node53\" class=\"node\">\n<title>52</title>\n<polygon fill=\"none\" stroke=\"black\" points=\"764.5,-677 653.5,-677 653.5,-609 764.5,-609 764.5,-677\"/>\n<text text-anchor=\"middle\" x=\"709\" y=\"-661.8\" font-family=\"Helvetica,sans-Serif\" font-size=\"14.00\">X[0] &lt;= 147.0</text>\n<text text-anchor=\"middle\" x=\"709\" y=\"-646.8\" font-family=\"Helvetica,sans-Serif\" font-size=\"14.00\">entropy = 0.811</text>\n<text text-anchor=\"middle\" x=\"709\" y=\"-631.8\" font-family=\"Helvetica,sans-Serif\" font-size=\"14.00\">samples = 8</text>\n<text text-anchor=\"middle\" x=\"709\" y=\"-616.8\" font-family=\"Helvetica,sans-Serif\" font-size=\"14.00\">value = [2, 6]</text>\n</g>\n<!-- 51&#45;&gt;52 -->\n<g id=\"edge52\" class=\"edge\">\n<title>51&#45;&gt;52</title>\n<path fill=\"none\" stroke=\"black\" d=\"M742.09,-712.88C738.03,-704.42 733.6,-695.21 729.35,-686.35\"/>\n<polygon fill=\"black\" stroke=\"black\" points=\"732.48,-684.8 725,-677.3 726.17,-687.83 732.48,-684.8\"/>\n</g>\n<!-- 61 -->\n<g id=\"node62\" class=\"node\">\n<title>61</title>\n<polygon fill=\"none\" stroke=\"black\" points=\"879,-669.5 783,-669.5 783,-616.5 879,-616.5 879,-669.5\"/>\n<text text-anchor=\"middle\" x=\"831\" y=\"-654.3\" font-family=\"Helvetica,sans-Serif\" font-size=\"14.00\">entropy = 0.0</text>\n<text text-anchor=\"middle\" x=\"831\" y=\"-639.3\" font-family=\"Helvetica,sans-Serif\" font-size=\"14.00\">samples = 1</text>\n<text text-anchor=\"middle\" x=\"831\" y=\"-624.3\" font-family=\"Helvetica,sans-Serif\" font-size=\"14.00\">value = [1, 0]</text>\n</g>\n<!-- 51&#45;&gt;61 -->\n<g id=\"edge61\" class=\"edge\">\n<title>51&#45;&gt;61</title>\n<path fill=\"none\" stroke=\"black\" d=\"M781.7,-712.88C789.73,-701.67 798.7,-689.13 806.77,-677.85\"/>\n<polygon fill=\"black\" stroke=\"black\" points=\"809.76,-679.69 812.74,-669.52 804.07,-675.61 809.76,-679.69\"/>\n</g>\n<!-- 53 -->\n<g id=\"node54\" class=\"node\">\n<title>53</title>\n<polygon fill=\"none\" stroke=\"black\" points=\"708,-565.5 612,-565.5 612,-512.5 708,-512.5 708,-565.5\"/>\n<text text-anchor=\"middle\" x=\"660\" y=\"-550.3\" font-family=\"Helvetica,sans-Serif\" font-size=\"14.00\">entropy = 0.0</text>\n<text text-anchor=\"middle\" x=\"660\" y=\"-535.3\" font-family=\"Helvetica,sans-Serif\" font-size=\"14.00\">samples = 2</text>\n<text text-anchor=\"middle\" x=\"660\" y=\"-520.3\" font-family=\"Helvetica,sans-Serif\" font-size=\"14.00\">value = [0, 2]</text>\n</g>\n<!-- 52&#45;&gt;53 -->\n<g id=\"edge53\" class=\"edge\">\n<title>52&#45;&gt;53</title>\n<path fill=\"none\" stroke=\"black\" d=\"M693.09,-608.88C687.86,-598 682.03,-585.86 676.74,-574.85\"/>\n<polygon fill=\"black\" stroke=\"black\" points=\"679.74,-573.02 672.26,-565.52 673.43,-576.05 679.74,-573.02\"/>\n</g>\n<!-- 54 -->\n<g id=\"node55\" class=\"node\">\n<title>54</title>\n<polygon fill=\"none\" stroke=\"black\" points=\"837.5,-573 726.5,-573 726.5,-505 837.5,-505 837.5,-573\"/>\n<text text-anchor=\"middle\" x=\"782\" y=\"-557.8\" font-family=\"Helvetica,sans-Serif\" font-size=\"14.00\">X[0] &lt;= 173.5</text>\n<text text-anchor=\"middle\" x=\"782\" y=\"-542.8\" font-family=\"Helvetica,sans-Serif\" font-size=\"14.00\">entropy = 0.918</text>\n<text text-anchor=\"middle\" x=\"782\" y=\"-527.8\" font-family=\"Helvetica,sans-Serif\" font-size=\"14.00\">samples = 6</text>\n<text text-anchor=\"middle\" x=\"782\" y=\"-512.8\" font-family=\"Helvetica,sans-Serif\" font-size=\"14.00\">value = [2, 4]</text>\n</g>\n<!-- 52&#45;&gt;54 -->\n<g id=\"edge54\" class=\"edge\">\n<title>52&#45;&gt;54</title>\n<path fill=\"none\" stroke=\"black\" d=\"M732.7,-608.88C738.95,-600.15 745.77,-590.62 752.29,-581.51\"/>\n<polygon fill=\"black\" stroke=\"black\" points=\"755.19,-583.47 758.17,-573.3 749.5,-579.39 755.19,-583.47\"/>\n</g>\n<!-- 55 -->\n<g id=\"node56\" class=\"node\">\n<title>55</title>\n<polygon fill=\"none\" stroke=\"black\" points=\"735,-461.5 639,-461.5 639,-408.5 735,-408.5 735,-461.5\"/>\n<text text-anchor=\"middle\" x=\"687\" y=\"-446.3\" font-family=\"Helvetica,sans-Serif\" font-size=\"14.00\">entropy = 0.0</text>\n<text text-anchor=\"middle\" x=\"687\" y=\"-431.3\" font-family=\"Helvetica,sans-Serif\" font-size=\"14.00\">samples = 1</text>\n<text text-anchor=\"middle\" x=\"687\" y=\"-416.3\" font-family=\"Helvetica,sans-Serif\" font-size=\"14.00\">value = [1, 0]</text>\n</g>\n<!-- 54&#45;&gt;55 -->\n<g id=\"edge55\" class=\"edge\">\n<title>54&#45;&gt;55</title>\n<path fill=\"none\" stroke=\"black\" d=\"M751.16,-504.88C740.4,-493.34 728.34,-480.39 717.61,-468.86\"/>\n<polygon fill=\"black\" stroke=\"black\" points=\"720.15,-466.45 710.77,-461.52 715.02,-471.22 720.15,-466.45\"/>\n</g>\n<!-- 56 -->\n<g id=\"node57\" class=\"node\">\n<title>56</title>\n<polygon fill=\"none\" stroke=\"black\" points=\"864.5,-469 753.5,-469 753.5,-401 864.5,-401 864.5,-469\"/>\n<text text-anchor=\"middle\" x=\"809\" y=\"-453.8\" font-family=\"Helvetica,sans-Serif\" font-size=\"14.00\">X[0] &lt;= 307.5</text>\n<text text-anchor=\"middle\" x=\"809\" y=\"-438.8\" font-family=\"Helvetica,sans-Serif\" font-size=\"14.00\">entropy = 0.722</text>\n<text text-anchor=\"middle\" x=\"809\" y=\"-423.8\" font-family=\"Helvetica,sans-Serif\" font-size=\"14.00\">samples = 5</text>\n<text text-anchor=\"middle\" x=\"809\" y=\"-408.8\" font-family=\"Helvetica,sans-Serif\" font-size=\"14.00\">value = [1, 4]</text>\n</g>\n<!-- 54&#45;&gt;56 -->\n<g id=\"edge56\" class=\"edge\">\n<title>54&#45;&gt;56</title>\n<path fill=\"none\" stroke=\"black\" d=\"M790.77,-504.88C792.94,-496.69 795.29,-487.79 797.57,-479.19\"/>\n<polygon fill=\"black\" stroke=\"black\" points=\"801.01,-479.86 800.19,-469.3 794.24,-478.07 801.01,-479.86\"/>\n</g>\n<!-- 57 -->\n<g id=\"node58\" class=\"node\">\n<title>57</title>\n<polygon fill=\"none\" stroke=\"black\" points=\"800,-357.5 704,-357.5 704,-304.5 800,-304.5 800,-357.5\"/>\n<text text-anchor=\"middle\" x=\"752\" y=\"-342.3\" font-family=\"Helvetica,sans-Serif\" font-size=\"14.00\">entropy = 0.0</text>\n<text text-anchor=\"middle\" x=\"752\" y=\"-327.3\" font-family=\"Helvetica,sans-Serif\" font-size=\"14.00\">samples = 3</text>\n<text text-anchor=\"middle\" x=\"752\" y=\"-312.3\" font-family=\"Helvetica,sans-Serif\" font-size=\"14.00\">value = [0, 3]</text>\n</g>\n<!-- 56&#45;&gt;57 -->\n<g id=\"edge57\" class=\"edge\">\n<title>56&#45;&gt;57</title>\n<path fill=\"none\" stroke=\"black\" d=\"M790.49,-400.88C784.35,-389.89 777.49,-377.62 771.29,-366.52\"/>\n<polygon fill=\"black\" stroke=\"black\" points=\"774.19,-364.54 766.26,-357.52 768.08,-367.96 774.19,-364.54\"/>\n</g>\n<!-- 58 -->\n<g id=\"node59\" class=\"node\">\n<title>58</title>\n<polygon fill=\"none\" stroke=\"black\" points=\"914,-365 818,-365 818,-297 914,-297 914,-365\"/>\n<text text-anchor=\"middle\" x=\"866\" y=\"-349.8\" font-family=\"Helvetica,sans-Serif\" font-size=\"14.00\">X[3] &lt;= 31.5</text>\n<text text-anchor=\"middle\" x=\"866\" y=\"-334.8\" font-family=\"Helvetica,sans-Serif\" font-size=\"14.00\">entropy = 1.0</text>\n<text text-anchor=\"middle\" x=\"866\" y=\"-319.8\" font-family=\"Helvetica,sans-Serif\" font-size=\"14.00\">samples = 2</text>\n<text text-anchor=\"middle\" x=\"866\" y=\"-304.8\" font-family=\"Helvetica,sans-Serif\" font-size=\"14.00\">value = [1, 1]</text>\n</g>\n<!-- 56&#45;&gt;58 -->\n<g id=\"edge58\" class=\"edge\">\n<title>56&#45;&gt;58</title>\n<path fill=\"none\" stroke=\"black\" d=\"M827.51,-400.88C832.28,-392.33 837.49,-383.01 842.49,-374.07\"/>\n<polygon fill=\"black\" stroke=\"black\" points=\"845.57,-375.74 847.39,-365.3 839.46,-372.32 845.57,-375.74\"/>\n</g>\n<!-- 59 -->\n<g id=\"node60\" class=\"node\">\n<title>59</title>\n<polygon fill=\"none\" stroke=\"black\" points=\"857,-253.5 761,-253.5 761,-200.5 857,-200.5 857,-253.5\"/>\n<text text-anchor=\"middle\" x=\"809\" y=\"-238.3\" font-family=\"Helvetica,sans-Serif\" font-size=\"14.00\">entropy = 0.0</text>\n<text text-anchor=\"middle\" x=\"809\" y=\"-223.3\" font-family=\"Helvetica,sans-Serif\" font-size=\"14.00\">samples = 1</text>\n<text text-anchor=\"middle\" x=\"809\" y=\"-208.3\" font-family=\"Helvetica,sans-Serif\" font-size=\"14.00\">value = [1, 0]</text>\n</g>\n<!-- 58&#45;&gt;59 -->\n<g id=\"edge59\" class=\"edge\">\n<title>58&#45;&gt;59</title>\n<path fill=\"none\" stroke=\"black\" d=\"M847.49,-296.88C841.35,-285.89 834.49,-273.62 828.29,-262.52\"/>\n<polygon fill=\"black\" stroke=\"black\" points=\"831.19,-260.54 823.26,-253.52 825.08,-263.96 831.19,-260.54\"/>\n</g>\n<!-- 60 -->\n<g id=\"node61\" class=\"node\">\n<title>60</title>\n<polygon fill=\"none\" stroke=\"black\" points=\"971,-253.5 875,-253.5 875,-200.5 971,-200.5 971,-253.5\"/>\n<text text-anchor=\"middle\" x=\"923\" y=\"-238.3\" font-family=\"Helvetica,sans-Serif\" font-size=\"14.00\">entropy = 0.0</text>\n<text text-anchor=\"middle\" x=\"923\" y=\"-223.3\" font-family=\"Helvetica,sans-Serif\" font-size=\"14.00\">samples = 1</text>\n<text text-anchor=\"middle\" x=\"923\" y=\"-208.3\" font-family=\"Helvetica,sans-Serif\" font-size=\"14.00\">value = [0, 1]</text>\n</g>\n<!-- 58&#45;&gt;60 -->\n<g id=\"edge60\" class=\"edge\">\n<title>58&#45;&gt;60</title>\n<path fill=\"none\" stroke=\"black\" d=\"M884.51,-296.88C890.65,-285.89 897.51,-273.62 903.71,-262.52\"/>\n<polygon fill=\"black\" stroke=\"black\" points=\"906.92,-263.96 908.74,-253.52 900.81,-260.54 906.92,-263.96\"/>\n</g>\n<!-- 64 -->\n<g id=\"node65\" class=\"node\">\n<title>64</title>\n<polygon fill=\"none\" stroke=\"black\" points=\"1039,-885 943,-885 943,-817 1039,-817 1039,-885\"/>\n<text text-anchor=\"middle\" x=\"991\" y=\"-869.8\" font-family=\"Helvetica,sans-Serif\" font-size=\"14.00\">X[0] &lt;= 59.0</text>\n<text text-anchor=\"middle\" x=\"991\" y=\"-854.8\" font-family=\"Helvetica,sans-Serif\" font-size=\"14.00\">entropy = 1.0</text>\n<text text-anchor=\"middle\" x=\"991\" y=\"-839.8\" font-family=\"Helvetica,sans-Serif\" font-size=\"14.00\">samples = 6</text>\n<text text-anchor=\"middle\" x=\"991\" y=\"-824.8\" font-family=\"Helvetica,sans-Serif\" font-size=\"14.00\">value = [3, 3]</text>\n</g>\n<!-- 63&#45;&gt;64 -->\n<g id=\"edge64\" class=\"edge\">\n<title>63&#45;&gt;64</title>\n<path fill=\"none\" stroke=\"black\" d=\"M1001.13,-920.88C999.94,-912.78 998.64,-903.98 997.39,-895.47\"/>\n<polygon fill=\"black\" stroke=\"black\" points=\"1000.81,-894.68 995.9,-885.3 993.89,-895.7 1000.81,-894.68\"/>\n</g>\n<!-- 67 -->\n<g id=\"node68\" class=\"node\">\n<title>67</title>\n<polygon fill=\"none\" stroke=\"black\" points=\"1168.5,-885 1057.5,-885 1057.5,-817 1168.5,-817 1168.5,-885\"/>\n<text text-anchor=\"middle\" x=\"1113\" y=\"-869.8\" font-family=\"Helvetica,sans-Serif\" font-size=\"14.00\">X[0] &lt;= 358.0</text>\n<text text-anchor=\"middle\" x=\"1113\" y=\"-854.8\" font-family=\"Helvetica,sans-Serif\" font-size=\"14.00\">entropy = 0.391</text>\n<text text-anchor=\"middle\" x=\"1113\" y=\"-839.8\" font-family=\"Helvetica,sans-Serif\" font-size=\"14.00\">samples = 13</text>\n<text text-anchor=\"middle\" x=\"1113\" y=\"-824.8\" font-family=\"Helvetica,sans-Serif\" font-size=\"14.00\">value = [1, 12]</text>\n</g>\n<!-- 63&#45;&gt;67 -->\n<g id=\"edge67\" class=\"edge\">\n<title>63&#45;&gt;67</title>\n<path fill=\"none\" stroke=\"black\" d=\"M1040.74,-920.88C1050.27,-911.8 1060.71,-901.85 1070.62,-892.4\"/>\n<polygon fill=\"black\" stroke=\"black\" points=\"1073.25,-894.73 1078.07,-885.3 1068.42,-889.67 1073.25,-894.73\"/>\n</g>\n<!-- 65 -->\n<g id=\"node66\" class=\"node\">\n<title>65</title>\n<polygon fill=\"none\" stroke=\"black\" points=\"929,-773.5 833,-773.5 833,-720.5 929,-720.5 929,-773.5\"/>\n<text text-anchor=\"middle\" x=\"881\" y=\"-758.3\" font-family=\"Helvetica,sans-Serif\" font-size=\"14.00\">entropy = 0.0</text>\n<text text-anchor=\"middle\" x=\"881\" y=\"-743.3\" font-family=\"Helvetica,sans-Serif\" font-size=\"14.00\">samples = 3</text>\n<text text-anchor=\"middle\" x=\"881\" y=\"-728.3\" font-family=\"Helvetica,sans-Serif\" font-size=\"14.00\">value = [0, 3]</text>\n</g>\n<!-- 64&#45;&gt;65 -->\n<g id=\"edge65\" class=\"edge\">\n<title>64&#45;&gt;65</title>\n<path fill=\"none\" stroke=\"black\" d=\"M955.29,-816.88C942.71,-805.23 928.6,-792.14 916.08,-780.53\"/>\n<polygon fill=\"black\" stroke=\"black\" points=\"918.23,-777.75 908.52,-773.52 913.47,-782.89 918.23,-777.75\"/>\n</g>\n<!-- 66 -->\n<g id=\"node67\" class=\"node\">\n<title>66</title>\n<polygon fill=\"none\" stroke=\"black\" points=\"1043,-773.5 947,-773.5 947,-720.5 1043,-720.5 1043,-773.5\"/>\n<text text-anchor=\"middle\" x=\"995\" y=\"-758.3\" font-family=\"Helvetica,sans-Serif\" font-size=\"14.00\">entropy = 0.0</text>\n<text text-anchor=\"middle\" x=\"995\" y=\"-743.3\" font-family=\"Helvetica,sans-Serif\" font-size=\"14.00\">samples = 3</text>\n<text text-anchor=\"middle\" x=\"995\" y=\"-728.3\" font-family=\"Helvetica,sans-Serif\" font-size=\"14.00\">value = [3, 0]</text>\n</g>\n<!-- 64&#45;&gt;66 -->\n<g id=\"edge66\" class=\"edge\">\n<title>64&#45;&gt;66</title>\n<path fill=\"none\" stroke=\"black\" d=\"M992.3,-816.88C992.72,-806.22 993.18,-794.35 993.61,-783.52\"/>\n<polygon fill=\"black\" stroke=\"black\" points=\"997.1,-783.65 994,-773.52 990.11,-783.38 997.1,-783.65\"/>\n</g>\n<!-- 68 -->\n<g id=\"node69\" class=\"node\">\n<title>68</title>\n<polygon fill=\"none\" stroke=\"black\" points=\"1164,-773.5 1062,-773.5 1062,-720.5 1164,-720.5 1164,-773.5\"/>\n<text text-anchor=\"middle\" x=\"1113\" y=\"-758.3\" font-family=\"Helvetica,sans-Serif\" font-size=\"14.00\">entropy = 0.0</text>\n<text text-anchor=\"middle\" x=\"1113\" y=\"-743.3\" font-family=\"Helvetica,sans-Serif\" font-size=\"14.00\">samples = 10</text>\n<text text-anchor=\"middle\" x=\"1113\" y=\"-728.3\" font-family=\"Helvetica,sans-Serif\" font-size=\"14.00\">value = [0, 10]</text>\n</g>\n<!-- 67&#45;&gt;68 -->\n<g id=\"edge68\" class=\"edge\">\n<title>67&#45;&gt;68</title>\n<path fill=\"none\" stroke=\"black\" d=\"M1113,-816.88C1113,-806.33 1113,-794.6 1113,-783.85\"/>\n<polygon fill=\"black\" stroke=\"black\" points=\"1116.5,-783.52 1113,-773.52 1109.5,-783.52 1116.5,-783.52\"/>\n</g>\n<!-- 69 -->\n<g id=\"node70\" class=\"node\">\n<title>69</title>\n<polygon fill=\"none\" stroke=\"black\" points=\"1293.5,-781 1182.5,-781 1182.5,-713 1293.5,-713 1293.5,-781\"/>\n<text text-anchor=\"middle\" x=\"1238\" y=\"-765.8\" font-family=\"Helvetica,sans-Serif\" font-size=\"14.00\">X[0] &lt;= 369.5</text>\n<text text-anchor=\"middle\" x=\"1238\" y=\"-750.8\" font-family=\"Helvetica,sans-Serif\" font-size=\"14.00\">entropy = 0.918</text>\n<text text-anchor=\"middle\" x=\"1238\" y=\"-735.8\" font-family=\"Helvetica,sans-Serif\" font-size=\"14.00\">samples = 3</text>\n<text text-anchor=\"middle\" x=\"1238\" y=\"-720.8\" font-family=\"Helvetica,sans-Serif\" font-size=\"14.00\">value = [1, 2]</text>\n</g>\n<!-- 67&#45;&gt;69 -->\n<g id=\"edge69\" class=\"edge\">\n<title>67&#45;&gt;69</title>\n<path fill=\"none\" stroke=\"black\" d=\"M1153.58,-816.88C1164.94,-807.62 1177.39,-797.45 1189.17,-787.85\"/>\n<polygon fill=\"black\" stroke=\"black\" points=\"1191.66,-790.33 1197.19,-781.3 1187.23,-784.91 1191.66,-790.33\"/>\n</g>\n<!-- 70 -->\n<g id=\"node71\" class=\"node\">\n<title>70</title>\n<polygon fill=\"none\" stroke=\"black\" points=\"1229,-669.5 1133,-669.5 1133,-616.5 1229,-616.5 1229,-669.5\"/>\n<text text-anchor=\"middle\" x=\"1181\" y=\"-654.3\" font-family=\"Helvetica,sans-Serif\" font-size=\"14.00\">entropy = 0.0</text>\n<text text-anchor=\"middle\" x=\"1181\" y=\"-639.3\" font-family=\"Helvetica,sans-Serif\" font-size=\"14.00\">samples = 1</text>\n<text text-anchor=\"middle\" x=\"1181\" y=\"-624.3\" font-family=\"Helvetica,sans-Serif\" font-size=\"14.00\">value = [1, 0]</text>\n</g>\n<!-- 69&#45;&gt;70 -->\n<g id=\"edge70\" class=\"edge\">\n<title>69&#45;&gt;70</title>\n<path fill=\"none\" stroke=\"black\" d=\"M1219.49,-712.88C1213.35,-701.89 1206.49,-689.62 1200.29,-678.52\"/>\n<polygon fill=\"black\" stroke=\"black\" points=\"1203.19,-676.54 1195.26,-669.52 1197.08,-679.96 1203.19,-676.54\"/>\n</g>\n<!-- 71 -->\n<g id=\"node72\" class=\"node\">\n<title>71</title>\n<polygon fill=\"none\" stroke=\"black\" points=\"1343,-669.5 1247,-669.5 1247,-616.5 1343,-616.5 1343,-669.5\"/>\n<text text-anchor=\"middle\" x=\"1295\" y=\"-654.3\" font-family=\"Helvetica,sans-Serif\" font-size=\"14.00\">entropy = 0.0</text>\n<text text-anchor=\"middle\" x=\"1295\" y=\"-639.3\" font-family=\"Helvetica,sans-Serif\" font-size=\"14.00\">samples = 2</text>\n<text text-anchor=\"middle\" x=\"1295\" y=\"-624.3\" font-family=\"Helvetica,sans-Serif\" font-size=\"14.00\">value = [0, 2]</text>\n</g>\n<!-- 69&#45;&gt;71 -->\n<g id=\"edge71\" class=\"edge\">\n<title>69&#45;&gt;71</title>\n<path fill=\"none\" stroke=\"black\" d=\"M1256.51,-712.88C1262.65,-701.89 1269.51,-689.62 1275.71,-678.52\"/>\n<polygon fill=\"black\" stroke=\"black\" points=\"1278.92,-679.96 1280.74,-669.52 1272.81,-676.54 1278.92,-679.96\"/>\n</g>\n<!-- 73 -->\n<g id=\"node74\" class=\"node\">\n<title>73</title>\n<polygon fill=\"none\" stroke=\"black\" points=\"1284,-989 1186,-989 1186,-921 1284,-921 1284,-989\"/>\n<text text-anchor=\"middle\" x=\"1235\" y=\"-973.8\" font-family=\"Helvetica,sans-Serif\" font-size=\"14.00\">X[0] &lt;= 165.5</text>\n<text text-anchor=\"middle\" x=\"1235\" y=\"-958.8\" font-family=\"Helvetica,sans-Serif\" font-size=\"14.00\">entropy = 1.0</text>\n<text text-anchor=\"middle\" x=\"1235\" y=\"-943.8\" font-family=\"Helvetica,sans-Serif\" font-size=\"14.00\">samples = 2</text>\n<text text-anchor=\"middle\" x=\"1235\" y=\"-928.8\" font-family=\"Helvetica,sans-Serif\" font-size=\"14.00\">value = [1, 1]</text>\n</g>\n<!-- 72&#45;&gt;73 -->\n<g id=\"edge73\" class=\"edge\">\n<title>72&#45;&gt;73</title>\n<path fill=\"none\" stroke=\"black\" d=\"M1235,-1024.88C1235,-1016.78 1235,-1007.98 1235,-999.47\"/>\n<polygon fill=\"black\" stroke=\"black\" points=\"1238.5,-999.3 1235,-989.3 1231.5,-999.3 1238.5,-999.3\"/>\n</g>\n<!-- 76 -->\n<g id=\"node77\" class=\"node\">\n<title>76</title>\n<polygon fill=\"none\" stroke=\"black\" points=\"1404,-981.5 1302,-981.5 1302,-928.5 1404,-928.5 1404,-981.5\"/>\n<text text-anchor=\"middle\" x=\"1353\" y=\"-966.3\" font-family=\"Helvetica,sans-Serif\" font-size=\"14.00\">entropy = 0.0</text>\n<text text-anchor=\"middle\" x=\"1353\" y=\"-951.3\" font-family=\"Helvetica,sans-Serif\" font-size=\"14.00\">samples = 20</text>\n<text text-anchor=\"middle\" x=\"1353\" y=\"-936.3\" font-family=\"Helvetica,sans-Serif\" font-size=\"14.00\">value = [0, 20]</text>\n</g>\n<!-- 72&#45;&gt;76 -->\n<g id=\"edge76\" class=\"edge\">\n<title>72&#45;&gt;76</title>\n<path fill=\"none\" stroke=\"black\" d=\"M1273.31,-1024.88C1286.92,-1013.12 1302.22,-999.89 1315.75,-988.2\"/>\n<polygon fill=\"black\" stroke=\"black\" points=\"1318.2,-990.71 1323.48,-981.52 1313.62,-985.41 1318.2,-990.71\"/>\n</g>\n<!-- 74 -->\n<g id=\"node75\" class=\"node\">\n<title>74</title>\n<polygon fill=\"none\" stroke=\"black\" points=\"1283,-877.5 1187,-877.5 1187,-824.5 1283,-824.5 1283,-877.5\"/>\n<text text-anchor=\"middle\" x=\"1235\" y=\"-862.3\" font-family=\"Helvetica,sans-Serif\" font-size=\"14.00\">entropy = 0.0</text>\n<text text-anchor=\"middle\" x=\"1235\" y=\"-847.3\" font-family=\"Helvetica,sans-Serif\" font-size=\"14.00\">samples = 1</text>\n<text text-anchor=\"middle\" x=\"1235\" y=\"-832.3\" font-family=\"Helvetica,sans-Serif\" font-size=\"14.00\">value = [0, 1]</text>\n</g>\n<!-- 73&#45;&gt;74 -->\n<g id=\"edge74\" class=\"edge\">\n<title>73&#45;&gt;74</title>\n<path fill=\"none\" stroke=\"black\" d=\"M1235,-920.88C1235,-910.33 1235,-898.6 1235,-887.85\"/>\n<polygon fill=\"black\" stroke=\"black\" points=\"1238.5,-887.52 1235,-877.52 1231.5,-887.52 1238.5,-887.52\"/>\n</g>\n<!-- 75 -->\n<g id=\"node76\" class=\"node\">\n<title>75</title>\n<polygon fill=\"none\" stroke=\"black\" points=\"1397,-877.5 1301,-877.5 1301,-824.5 1397,-824.5 1397,-877.5\"/>\n<text text-anchor=\"middle\" x=\"1349\" y=\"-862.3\" font-family=\"Helvetica,sans-Serif\" font-size=\"14.00\">entropy = 0.0</text>\n<text text-anchor=\"middle\" x=\"1349\" y=\"-847.3\" font-family=\"Helvetica,sans-Serif\" font-size=\"14.00\">samples = 1</text>\n<text text-anchor=\"middle\" x=\"1349\" y=\"-832.3\" font-family=\"Helvetica,sans-Serif\" font-size=\"14.00\">value = [1, 0]</text>\n</g>\n<!-- 73&#45;&gt;75 -->\n<g id=\"edge75\" class=\"edge\">\n<title>73&#45;&gt;75</title>\n<path fill=\"none\" stroke=\"black\" d=\"M1272.01,-920.88C1285.16,-909.12 1299.94,-895.89 1313.01,-884.2\"/>\n<polygon fill=\"black\" stroke=\"black\" points=\"1315.36,-886.8 1320.48,-877.52 1310.69,-881.58 1315.36,-886.8\"/>\n</g>\n</g>\n</svg>\n"
          },
          "metadata": {},
          "execution_count": 48
        }
      ]
    }
  ]
}